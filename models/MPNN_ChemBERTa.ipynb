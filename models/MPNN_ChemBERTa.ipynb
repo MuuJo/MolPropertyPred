{
  "nbformat": 4,
  "nbformat_minor": 0,
  "metadata": {
    "colab": {
      "provenance": [],
      "gpuType": "T4"
    },
    "kernelspec": {
      "name": "python3",
      "display_name": "Python 3"
    },
    "language_info": {
      "name": "python"
    },
    "accelerator": "GPU",
    "widgets": {
      "application/vnd.jupyter.widget-state+json": {
        "d13d02cb80194d7786bb794140a37c78": {
          "model_module": "@jupyter-widgets/controls",
          "model_name": "HBoxModel",
          "model_module_version": "1.5.0",
          "state": {
            "_dom_classes": [],
            "_model_module": "@jupyter-widgets/controls",
            "_model_module_version": "1.5.0",
            "_model_name": "HBoxModel",
            "_view_count": null,
            "_view_module": "@jupyter-widgets/controls",
            "_view_module_version": "1.5.0",
            "_view_name": "HBoxView",
            "box_style": "",
            "children": [
              "IPY_MODEL_001c74099ee24ac6891c26ccdccf9154",
              "IPY_MODEL_abe7f9e075d74e1f833d9296fcc91c0b",
              "IPY_MODEL_e3c14d8efa7e47769e5c9cea55ecab34"
            ],
            "layout": "IPY_MODEL_3ab2552fec95445ab6381fc2c4b595d5"
          }
        },
        "001c74099ee24ac6891c26ccdccf9154": {
          "model_module": "@jupyter-widgets/controls",
          "model_name": "HTMLModel",
          "model_module_version": "1.5.0",
          "state": {
            "_dom_classes": [],
            "_model_module": "@jupyter-widgets/controls",
            "_model_module_version": "1.5.0",
            "_model_name": "HTMLModel",
            "_view_count": null,
            "_view_module": "@jupyter-widgets/controls",
            "_view_module_version": "1.5.0",
            "_view_name": "HTMLView",
            "description": "",
            "description_tooltip": null,
            "layout": "IPY_MODEL_8f16ad3b6a6943cdb68bd0e8faf485b5",
            "placeholder": "​",
            "style": "IPY_MODEL_b7365bc285f241ed985c9db0604a9f04",
            "value": "tokenizer_config.json: 100%"
          }
        },
        "abe7f9e075d74e1f833d9296fcc91c0b": {
          "model_module": "@jupyter-widgets/controls",
          "model_name": "FloatProgressModel",
          "model_module_version": "1.5.0",
          "state": {
            "_dom_classes": [],
            "_model_module": "@jupyter-widgets/controls",
            "_model_module_version": "1.5.0",
            "_model_name": "FloatProgressModel",
            "_view_count": null,
            "_view_module": "@jupyter-widgets/controls",
            "_view_module_version": "1.5.0",
            "_view_name": "ProgressView",
            "bar_style": "success",
            "description": "",
            "description_tooltip": null,
            "layout": "IPY_MODEL_774c40f0f3d94b3480d3be269c45c962",
            "max": 166,
            "min": 0,
            "orientation": "horizontal",
            "style": "IPY_MODEL_ed0f1a2524c943079095909ddb45e5f0",
            "value": 166
          }
        },
        "e3c14d8efa7e47769e5c9cea55ecab34": {
          "model_module": "@jupyter-widgets/controls",
          "model_name": "HTMLModel",
          "model_module_version": "1.5.0",
          "state": {
            "_dom_classes": [],
            "_model_module": "@jupyter-widgets/controls",
            "_model_module_version": "1.5.0",
            "_model_name": "HTMLModel",
            "_view_count": null,
            "_view_module": "@jupyter-widgets/controls",
            "_view_module_version": "1.5.0",
            "_view_name": "HTMLView",
            "description": "",
            "description_tooltip": null,
            "layout": "IPY_MODEL_d4c7cac2e59b4461899db4a1cf5e97e6",
            "placeholder": "​",
            "style": "IPY_MODEL_166e7c1da6d84d7a9afa51aa75ad9092",
            "value": " 166/166 [00:00&lt;00:00, 1.61kB/s]"
          }
        },
        "3ab2552fec95445ab6381fc2c4b595d5": {
          "model_module": "@jupyter-widgets/base",
          "model_name": "LayoutModel",
          "model_module_version": "1.2.0",
          "state": {
            "_model_module": "@jupyter-widgets/base",
            "_model_module_version": "1.2.0",
            "_model_name": "LayoutModel",
            "_view_count": null,
            "_view_module": "@jupyter-widgets/base",
            "_view_module_version": "1.2.0",
            "_view_name": "LayoutView",
            "align_content": null,
            "align_items": null,
            "align_self": null,
            "border": null,
            "bottom": null,
            "display": null,
            "flex": null,
            "flex_flow": null,
            "grid_area": null,
            "grid_auto_columns": null,
            "grid_auto_flow": null,
            "grid_auto_rows": null,
            "grid_column": null,
            "grid_gap": null,
            "grid_row": null,
            "grid_template_areas": null,
            "grid_template_columns": null,
            "grid_template_rows": null,
            "height": null,
            "justify_content": null,
            "justify_items": null,
            "left": null,
            "margin": null,
            "max_height": null,
            "max_width": null,
            "min_height": null,
            "min_width": null,
            "object_fit": null,
            "object_position": null,
            "order": null,
            "overflow": null,
            "overflow_x": null,
            "overflow_y": null,
            "padding": null,
            "right": null,
            "top": null,
            "visibility": null,
            "width": null
          }
        },
        "8f16ad3b6a6943cdb68bd0e8faf485b5": {
          "model_module": "@jupyter-widgets/base",
          "model_name": "LayoutModel",
          "model_module_version": "1.2.0",
          "state": {
            "_model_module": "@jupyter-widgets/base",
            "_model_module_version": "1.2.0",
            "_model_name": "LayoutModel",
            "_view_count": null,
            "_view_module": "@jupyter-widgets/base",
            "_view_module_version": "1.2.0",
            "_view_name": "LayoutView",
            "align_content": null,
            "align_items": null,
            "align_self": null,
            "border": null,
            "bottom": null,
            "display": null,
            "flex": null,
            "flex_flow": null,
            "grid_area": null,
            "grid_auto_columns": null,
            "grid_auto_flow": null,
            "grid_auto_rows": null,
            "grid_column": null,
            "grid_gap": null,
            "grid_row": null,
            "grid_template_areas": null,
            "grid_template_columns": null,
            "grid_template_rows": null,
            "height": null,
            "justify_content": null,
            "justify_items": null,
            "left": null,
            "margin": null,
            "max_height": null,
            "max_width": null,
            "min_height": null,
            "min_width": null,
            "object_fit": null,
            "object_position": null,
            "order": null,
            "overflow": null,
            "overflow_x": null,
            "overflow_y": null,
            "padding": null,
            "right": null,
            "top": null,
            "visibility": null,
            "width": null
          }
        },
        "b7365bc285f241ed985c9db0604a9f04": {
          "model_module": "@jupyter-widgets/controls",
          "model_name": "DescriptionStyleModel",
          "model_module_version": "1.5.0",
          "state": {
            "_model_module": "@jupyter-widgets/controls",
            "_model_module_version": "1.5.0",
            "_model_name": "DescriptionStyleModel",
            "_view_count": null,
            "_view_module": "@jupyter-widgets/base",
            "_view_module_version": "1.2.0",
            "_view_name": "StyleView",
            "description_width": ""
          }
        },
        "774c40f0f3d94b3480d3be269c45c962": {
          "model_module": "@jupyter-widgets/base",
          "model_name": "LayoutModel",
          "model_module_version": "1.2.0",
          "state": {
            "_model_module": "@jupyter-widgets/base",
            "_model_module_version": "1.2.0",
            "_model_name": "LayoutModel",
            "_view_count": null,
            "_view_module": "@jupyter-widgets/base",
            "_view_module_version": "1.2.0",
            "_view_name": "LayoutView",
            "align_content": null,
            "align_items": null,
            "align_self": null,
            "border": null,
            "bottom": null,
            "display": null,
            "flex": null,
            "flex_flow": null,
            "grid_area": null,
            "grid_auto_columns": null,
            "grid_auto_flow": null,
            "grid_auto_rows": null,
            "grid_column": null,
            "grid_gap": null,
            "grid_row": null,
            "grid_template_areas": null,
            "grid_template_columns": null,
            "grid_template_rows": null,
            "height": null,
            "justify_content": null,
            "justify_items": null,
            "left": null,
            "margin": null,
            "max_height": null,
            "max_width": null,
            "min_height": null,
            "min_width": null,
            "object_fit": null,
            "object_position": null,
            "order": null,
            "overflow": null,
            "overflow_x": null,
            "overflow_y": null,
            "padding": null,
            "right": null,
            "top": null,
            "visibility": null,
            "width": null
          }
        },
        "ed0f1a2524c943079095909ddb45e5f0": {
          "model_module": "@jupyter-widgets/controls",
          "model_name": "ProgressStyleModel",
          "model_module_version": "1.5.0",
          "state": {
            "_model_module": "@jupyter-widgets/controls",
            "_model_module_version": "1.5.0",
            "_model_name": "ProgressStyleModel",
            "_view_count": null,
            "_view_module": "@jupyter-widgets/base",
            "_view_module_version": "1.2.0",
            "_view_name": "StyleView",
            "bar_color": null,
            "description_width": ""
          }
        },
        "d4c7cac2e59b4461899db4a1cf5e97e6": {
          "model_module": "@jupyter-widgets/base",
          "model_name": "LayoutModel",
          "model_module_version": "1.2.0",
          "state": {
            "_model_module": "@jupyter-widgets/base",
            "_model_module_version": "1.2.0",
            "_model_name": "LayoutModel",
            "_view_count": null,
            "_view_module": "@jupyter-widgets/base",
            "_view_module_version": "1.2.0",
            "_view_name": "LayoutView",
            "align_content": null,
            "align_items": null,
            "align_self": null,
            "border": null,
            "bottom": null,
            "display": null,
            "flex": null,
            "flex_flow": null,
            "grid_area": null,
            "grid_auto_columns": null,
            "grid_auto_flow": null,
            "grid_auto_rows": null,
            "grid_column": null,
            "grid_gap": null,
            "grid_row": null,
            "grid_template_areas": null,
            "grid_template_columns": null,
            "grid_template_rows": null,
            "height": null,
            "justify_content": null,
            "justify_items": null,
            "left": null,
            "margin": null,
            "max_height": null,
            "max_width": null,
            "min_height": null,
            "min_width": null,
            "object_fit": null,
            "object_position": null,
            "order": null,
            "overflow": null,
            "overflow_x": null,
            "overflow_y": null,
            "padding": null,
            "right": null,
            "top": null,
            "visibility": null,
            "width": null
          }
        },
        "166e7c1da6d84d7a9afa51aa75ad9092": {
          "model_module": "@jupyter-widgets/controls",
          "model_name": "DescriptionStyleModel",
          "model_module_version": "1.5.0",
          "state": {
            "_model_module": "@jupyter-widgets/controls",
            "_model_module_version": "1.5.0",
            "_model_name": "DescriptionStyleModel",
            "_view_count": null,
            "_view_module": "@jupyter-widgets/base",
            "_view_module_version": "1.2.0",
            "_view_name": "StyleView",
            "description_width": ""
          }
        },
        "8439aede7fe84830904f6a35b925cde1": {
          "model_module": "@jupyter-widgets/controls",
          "model_name": "HBoxModel",
          "model_module_version": "1.5.0",
          "state": {
            "_dom_classes": [],
            "_model_module": "@jupyter-widgets/controls",
            "_model_module_version": "1.5.0",
            "_model_name": "HBoxModel",
            "_view_count": null,
            "_view_module": "@jupyter-widgets/controls",
            "_view_module_version": "1.5.0",
            "_view_name": "HBoxView",
            "box_style": "",
            "children": [
              "IPY_MODEL_9c3d1d68a3bf4cf0809bbe4dc9225ed7",
              "IPY_MODEL_afb2141b1e0540e1b0321e87fd4521fc",
              "IPY_MODEL_f9880d364494431ab8773fe454264446"
            ],
            "layout": "IPY_MODEL_0931fc2c36534591bd0b4d81a81504d7"
          }
        },
        "9c3d1d68a3bf4cf0809bbe4dc9225ed7": {
          "model_module": "@jupyter-widgets/controls",
          "model_name": "HTMLModel",
          "model_module_version": "1.5.0",
          "state": {
            "_dom_classes": [],
            "_model_module": "@jupyter-widgets/controls",
            "_model_module_version": "1.5.0",
            "_model_name": "HTMLModel",
            "_view_count": null,
            "_view_module": "@jupyter-widgets/controls",
            "_view_module_version": "1.5.0",
            "_view_name": "HTMLView",
            "description": "",
            "description_tooltip": null,
            "layout": "IPY_MODEL_21632c1538f3450a9f93d7e5b15e11a8",
            "placeholder": "​",
            "style": "IPY_MODEL_83ad790dec4c452a96db17c6c10ae40c",
            "value": "vocab.json: 100%"
          }
        },
        "afb2141b1e0540e1b0321e87fd4521fc": {
          "model_module": "@jupyter-widgets/controls",
          "model_name": "FloatProgressModel",
          "model_module_version": "1.5.0",
          "state": {
            "_dom_classes": [],
            "_model_module": "@jupyter-widgets/controls",
            "_model_module_version": "1.5.0",
            "_model_name": "FloatProgressModel",
            "_view_count": null,
            "_view_module": "@jupyter-widgets/controls",
            "_view_module_version": "1.5.0",
            "_view_name": "ProgressView",
            "bar_style": "success",
            "description": "",
            "description_tooltip": null,
            "layout": "IPY_MODEL_5f693f25641a4163a110a60c17d65065",
            "max": 9429,
            "min": 0,
            "orientation": "horizontal",
            "style": "IPY_MODEL_a4eaa7dc8c9c4441a2a2808f0a46e152",
            "value": 9429
          }
        },
        "f9880d364494431ab8773fe454264446": {
          "model_module": "@jupyter-widgets/controls",
          "model_name": "HTMLModel",
          "model_module_version": "1.5.0",
          "state": {
            "_dom_classes": [],
            "_model_module": "@jupyter-widgets/controls",
            "_model_module_version": "1.5.0",
            "_model_name": "HTMLModel",
            "_view_count": null,
            "_view_module": "@jupyter-widgets/controls",
            "_view_module_version": "1.5.0",
            "_view_name": "HTMLView",
            "description": "",
            "description_tooltip": null,
            "layout": "IPY_MODEL_47cdd4970c884ad08757811262dbffbd",
            "placeholder": "​",
            "style": "IPY_MODEL_3f9066272ef44be9965629d0819c12bc",
            "value": " 9.43k/9.43k [00:00&lt;00:00, 162kB/s]"
          }
        },
        "0931fc2c36534591bd0b4d81a81504d7": {
          "model_module": "@jupyter-widgets/base",
          "model_name": "LayoutModel",
          "model_module_version": "1.2.0",
          "state": {
            "_model_module": "@jupyter-widgets/base",
            "_model_module_version": "1.2.0",
            "_model_name": "LayoutModel",
            "_view_count": null,
            "_view_module": "@jupyter-widgets/base",
            "_view_module_version": "1.2.0",
            "_view_name": "LayoutView",
            "align_content": null,
            "align_items": null,
            "align_self": null,
            "border": null,
            "bottom": null,
            "display": null,
            "flex": null,
            "flex_flow": null,
            "grid_area": null,
            "grid_auto_columns": null,
            "grid_auto_flow": null,
            "grid_auto_rows": null,
            "grid_column": null,
            "grid_gap": null,
            "grid_row": null,
            "grid_template_areas": null,
            "grid_template_columns": null,
            "grid_template_rows": null,
            "height": null,
            "justify_content": null,
            "justify_items": null,
            "left": null,
            "margin": null,
            "max_height": null,
            "max_width": null,
            "min_height": null,
            "min_width": null,
            "object_fit": null,
            "object_position": null,
            "order": null,
            "overflow": null,
            "overflow_x": null,
            "overflow_y": null,
            "padding": null,
            "right": null,
            "top": null,
            "visibility": null,
            "width": null
          }
        },
        "21632c1538f3450a9f93d7e5b15e11a8": {
          "model_module": "@jupyter-widgets/base",
          "model_name": "LayoutModel",
          "model_module_version": "1.2.0",
          "state": {
            "_model_module": "@jupyter-widgets/base",
            "_model_module_version": "1.2.0",
            "_model_name": "LayoutModel",
            "_view_count": null,
            "_view_module": "@jupyter-widgets/base",
            "_view_module_version": "1.2.0",
            "_view_name": "LayoutView",
            "align_content": null,
            "align_items": null,
            "align_self": null,
            "border": null,
            "bottom": null,
            "display": null,
            "flex": null,
            "flex_flow": null,
            "grid_area": null,
            "grid_auto_columns": null,
            "grid_auto_flow": null,
            "grid_auto_rows": null,
            "grid_column": null,
            "grid_gap": null,
            "grid_row": null,
            "grid_template_areas": null,
            "grid_template_columns": null,
            "grid_template_rows": null,
            "height": null,
            "justify_content": null,
            "justify_items": null,
            "left": null,
            "margin": null,
            "max_height": null,
            "max_width": null,
            "min_height": null,
            "min_width": null,
            "object_fit": null,
            "object_position": null,
            "order": null,
            "overflow": null,
            "overflow_x": null,
            "overflow_y": null,
            "padding": null,
            "right": null,
            "top": null,
            "visibility": null,
            "width": null
          }
        },
        "83ad790dec4c452a96db17c6c10ae40c": {
          "model_module": "@jupyter-widgets/controls",
          "model_name": "DescriptionStyleModel",
          "model_module_version": "1.5.0",
          "state": {
            "_model_module": "@jupyter-widgets/controls",
            "_model_module_version": "1.5.0",
            "_model_name": "DescriptionStyleModel",
            "_view_count": null,
            "_view_module": "@jupyter-widgets/base",
            "_view_module_version": "1.2.0",
            "_view_name": "StyleView",
            "description_width": ""
          }
        },
        "5f693f25641a4163a110a60c17d65065": {
          "model_module": "@jupyter-widgets/base",
          "model_name": "LayoutModel",
          "model_module_version": "1.2.0",
          "state": {
            "_model_module": "@jupyter-widgets/base",
            "_model_module_version": "1.2.0",
            "_model_name": "LayoutModel",
            "_view_count": null,
            "_view_module": "@jupyter-widgets/base",
            "_view_module_version": "1.2.0",
            "_view_name": "LayoutView",
            "align_content": null,
            "align_items": null,
            "align_self": null,
            "border": null,
            "bottom": null,
            "display": null,
            "flex": null,
            "flex_flow": null,
            "grid_area": null,
            "grid_auto_columns": null,
            "grid_auto_flow": null,
            "grid_auto_rows": null,
            "grid_column": null,
            "grid_gap": null,
            "grid_row": null,
            "grid_template_areas": null,
            "grid_template_columns": null,
            "grid_template_rows": null,
            "height": null,
            "justify_content": null,
            "justify_items": null,
            "left": null,
            "margin": null,
            "max_height": null,
            "max_width": null,
            "min_height": null,
            "min_width": null,
            "object_fit": null,
            "object_position": null,
            "order": null,
            "overflow": null,
            "overflow_x": null,
            "overflow_y": null,
            "padding": null,
            "right": null,
            "top": null,
            "visibility": null,
            "width": null
          }
        },
        "a4eaa7dc8c9c4441a2a2808f0a46e152": {
          "model_module": "@jupyter-widgets/controls",
          "model_name": "ProgressStyleModel",
          "model_module_version": "1.5.0",
          "state": {
            "_model_module": "@jupyter-widgets/controls",
            "_model_module_version": "1.5.0",
            "_model_name": "ProgressStyleModel",
            "_view_count": null,
            "_view_module": "@jupyter-widgets/base",
            "_view_module_version": "1.2.0",
            "_view_name": "StyleView",
            "bar_color": null,
            "description_width": ""
          }
        },
        "47cdd4970c884ad08757811262dbffbd": {
          "model_module": "@jupyter-widgets/base",
          "model_name": "LayoutModel",
          "model_module_version": "1.2.0",
          "state": {
            "_model_module": "@jupyter-widgets/base",
            "_model_module_version": "1.2.0",
            "_model_name": "LayoutModel",
            "_view_count": null,
            "_view_module": "@jupyter-widgets/base",
            "_view_module_version": "1.2.0",
            "_view_name": "LayoutView",
            "align_content": null,
            "align_items": null,
            "align_self": null,
            "border": null,
            "bottom": null,
            "display": null,
            "flex": null,
            "flex_flow": null,
            "grid_area": null,
            "grid_auto_columns": null,
            "grid_auto_flow": null,
            "grid_auto_rows": null,
            "grid_column": null,
            "grid_gap": null,
            "grid_row": null,
            "grid_template_areas": null,
            "grid_template_columns": null,
            "grid_template_rows": null,
            "height": null,
            "justify_content": null,
            "justify_items": null,
            "left": null,
            "margin": null,
            "max_height": null,
            "max_width": null,
            "min_height": null,
            "min_width": null,
            "object_fit": null,
            "object_position": null,
            "order": null,
            "overflow": null,
            "overflow_x": null,
            "overflow_y": null,
            "padding": null,
            "right": null,
            "top": null,
            "visibility": null,
            "width": null
          }
        },
        "3f9066272ef44be9965629d0819c12bc": {
          "model_module": "@jupyter-widgets/controls",
          "model_name": "DescriptionStyleModel",
          "model_module_version": "1.5.0",
          "state": {
            "_model_module": "@jupyter-widgets/controls",
            "_model_module_version": "1.5.0",
            "_model_name": "DescriptionStyleModel",
            "_view_count": null,
            "_view_module": "@jupyter-widgets/base",
            "_view_module_version": "1.2.0",
            "_view_name": "StyleView",
            "description_width": ""
          }
        },
        "9970fa024c0343d395155da367c0920d": {
          "model_module": "@jupyter-widgets/controls",
          "model_name": "HBoxModel",
          "model_module_version": "1.5.0",
          "state": {
            "_dom_classes": [],
            "_model_module": "@jupyter-widgets/controls",
            "_model_module_version": "1.5.0",
            "_model_name": "HBoxModel",
            "_view_count": null,
            "_view_module": "@jupyter-widgets/controls",
            "_view_module_version": "1.5.0",
            "_view_name": "HBoxView",
            "box_style": "",
            "children": [
              "IPY_MODEL_f63e392cf5114a35a578ae72ce245f33",
              "IPY_MODEL_51553f0ebc6648daade7db84b3a243d0",
              "IPY_MODEL_72b243cbe6cd4939b032cd6883ca1b8f"
            ],
            "layout": "IPY_MODEL_83cf4a3f92484fd3b75dfbce683911ee"
          }
        },
        "f63e392cf5114a35a578ae72ce245f33": {
          "model_module": "@jupyter-widgets/controls",
          "model_name": "HTMLModel",
          "model_module_version": "1.5.0",
          "state": {
            "_dom_classes": [],
            "_model_module": "@jupyter-widgets/controls",
            "_model_module_version": "1.5.0",
            "_model_name": "HTMLModel",
            "_view_count": null,
            "_view_module": "@jupyter-widgets/controls",
            "_view_module_version": "1.5.0",
            "_view_name": "HTMLView",
            "description": "",
            "description_tooltip": null,
            "layout": "IPY_MODEL_9824949af0c24d4ba2dcef2b4cc00d11",
            "placeholder": "​",
            "style": "IPY_MODEL_ab954f1f274e49cb8f737e815c157131",
            "value": "merges.txt: 100%"
          }
        },
        "51553f0ebc6648daade7db84b3a243d0": {
          "model_module": "@jupyter-widgets/controls",
          "model_name": "FloatProgressModel",
          "model_module_version": "1.5.0",
          "state": {
            "_dom_classes": [],
            "_model_module": "@jupyter-widgets/controls",
            "_model_module_version": "1.5.0",
            "_model_name": "FloatProgressModel",
            "_view_count": null,
            "_view_module": "@jupyter-widgets/controls",
            "_view_module_version": "1.5.0",
            "_view_name": "ProgressView",
            "bar_style": "success",
            "description": "",
            "description_tooltip": null,
            "layout": "IPY_MODEL_5bf713ceb8214e98a1e5aabbcef97a35",
            "max": 3213,
            "min": 0,
            "orientation": "horizontal",
            "style": "IPY_MODEL_a605154dbd2548b59eda0fd8e819edbb",
            "value": 3213
          }
        },
        "72b243cbe6cd4939b032cd6883ca1b8f": {
          "model_module": "@jupyter-widgets/controls",
          "model_name": "HTMLModel",
          "model_module_version": "1.5.0",
          "state": {
            "_dom_classes": [],
            "_model_module": "@jupyter-widgets/controls",
            "_model_module_version": "1.5.0",
            "_model_name": "HTMLModel",
            "_view_count": null,
            "_view_module": "@jupyter-widgets/controls",
            "_view_module_version": "1.5.0",
            "_view_name": "HTMLView",
            "description": "",
            "description_tooltip": null,
            "layout": "IPY_MODEL_3de6d0b12caf49afa2714c5f14ade82b",
            "placeholder": "​",
            "style": "IPY_MODEL_463cffee280149839446bc65356cd886",
            "value": " 3.21k/3.21k [00:00&lt;00:00, 55.7kB/s]"
          }
        },
        "83cf4a3f92484fd3b75dfbce683911ee": {
          "model_module": "@jupyter-widgets/base",
          "model_name": "LayoutModel",
          "model_module_version": "1.2.0",
          "state": {
            "_model_module": "@jupyter-widgets/base",
            "_model_module_version": "1.2.0",
            "_model_name": "LayoutModel",
            "_view_count": null,
            "_view_module": "@jupyter-widgets/base",
            "_view_module_version": "1.2.0",
            "_view_name": "LayoutView",
            "align_content": null,
            "align_items": null,
            "align_self": null,
            "border": null,
            "bottom": null,
            "display": null,
            "flex": null,
            "flex_flow": null,
            "grid_area": null,
            "grid_auto_columns": null,
            "grid_auto_flow": null,
            "grid_auto_rows": null,
            "grid_column": null,
            "grid_gap": null,
            "grid_row": null,
            "grid_template_areas": null,
            "grid_template_columns": null,
            "grid_template_rows": null,
            "height": null,
            "justify_content": null,
            "justify_items": null,
            "left": null,
            "margin": null,
            "max_height": null,
            "max_width": null,
            "min_height": null,
            "min_width": null,
            "object_fit": null,
            "object_position": null,
            "order": null,
            "overflow": null,
            "overflow_x": null,
            "overflow_y": null,
            "padding": null,
            "right": null,
            "top": null,
            "visibility": null,
            "width": null
          }
        },
        "9824949af0c24d4ba2dcef2b4cc00d11": {
          "model_module": "@jupyter-widgets/base",
          "model_name": "LayoutModel",
          "model_module_version": "1.2.0",
          "state": {
            "_model_module": "@jupyter-widgets/base",
            "_model_module_version": "1.2.0",
            "_model_name": "LayoutModel",
            "_view_count": null,
            "_view_module": "@jupyter-widgets/base",
            "_view_module_version": "1.2.0",
            "_view_name": "LayoutView",
            "align_content": null,
            "align_items": null,
            "align_self": null,
            "border": null,
            "bottom": null,
            "display": null,
            "flex": null,
            "flex_flow": null,
            "grid_area": null,
            "grid_auto_columns": null,
            "grid_auto_flow": null,
            "grid_auto_rows": null,
            "grid_column": null,
            "grid_gap": null,
            "grid_row": null,
            "grid_template_areas": null,
            "grid_template_columns": null,
            "grid_template_rows": null,
            "height": null,
            "justify_content": null,
            "justify_items": null,
            "left": null,
            "margin": null,
            "max_height": null,
            "max_width": null,
            "min_height": null,
            "min_width": null,
            "object_fit": null,
            "object_position": null,
            "order": null,
            "overflow": null,
            "overflow_x": null,
            "overflow_y": null,
            "padding": null,
            "right": null,
            "top": null,
            "visibility": null,
            "width": null
          }
        },
        "ab954f1f274e49cb8f737e815c157131": {
          "model_module": "@jupyter-widgets/controls",
          "model_name": "DescriptionStyleModel",
          "model_module_version": "1.5.0",
          "state": {
            "_model_module": "@jupyter-widgets/controls",
            "_model_module_version": "1.5.0",
            "_model_name": "DescriptionStyleModel",
            "_view_count": null,
            "_view_module": "@jupyter-widgets/base",
            "_view_module_version": "1.2.0",
            "_view_name": "StyleView",
            "description_width": ""
          }
        },
        "5bf713ceb8214e98a1e5aabbcef97a35": {
          "model_module": "@jupyter-widgets/base",
          "model_name": "LayoutModel",
          "model_module_version": "1.2.0",
          "state": {
            "_model_module": "@jupyter-widgets/base",
            "_model_module_version": "1.2.0",
            "_model_name": "LayoutModel",
            "_view_count": null,
            "_view_module": "@jupyter-widgets/base",
            "_view_module_version": "1.2.0",
            "_view_name": "LayoutView",
            "align_content": null,
            "align_items": null,
            "align_self": null,
            "border": null,
            "bottom": null,
            "display": null,
            "flex": null,
            "flex_flow": null,
            "grid_area": null,
            "grid_auto_columns": null,
            "grid_auto_flow": null,
            "grid_auto_rows": null,
            "grid_column": null,
            "grid_gap": null,
            "grid_row": null,
            "grid_template_areas": null,
            "grid_template_columns": null,
            "grid_template_rows": null,
            "height": null,
            "justify_content": null,
            "justify_items": null,
            "left": null,
            "margin": null,
            "max_height": null,
            "max_width": null,
            "min_height": null,
            "min_width": null,
            "object_fit": null,
            "object_position": null,
            "order": null,
            "overflow": null,
            "overflow_x": null,
            "overflow_y": null,
            "padding": null,
            "right": null,
            "top": null,
            "visibility": null,
            "width": null
          }
        },
        "a605154dbd2548b59eda0fd8e819edbb": {
          "model_module": "@jupyter-widgets/controls",
          "model_name": "ProgressStyleModel",
          "model_module_version": "1.5.0",
          "state": {
            "_model_module": "@jupyter-widgets/controls",
            "_model_module_version": "1.5.0",
            "_model_name": "ProgressStyleModel",
            "_view_count": null,
            "_view_module": "@jupyter-widgets/base",
            "_view_module_version": "1.2.0",
            "_view_name": "StyleView",
            "bar_color": null,
            "description_width": ""
          }
        },
        "3de6d0b12caf49afa2714c5f14ade82b": {
          "model_module": "@jupyter-widgets/base",
          "model_name": "LayoutModel",
          "model_module_version": "1.2.0",
          "state": {
            "_model_module": "@jupyter-widgets/base",
            "_model_module_version": "1.2.0",
            "_model_name": "LayoutModel",
            "_view_count": null,
            "_view_module": "@jupyter-widgets/base",
            "_view_module_version": "1.2.0",
            "_view_name": "LayoutView",
            "align_content": null,
            "align_items": null,
            "align_self": null,
            "border": null,
            "bottom": null,
            "display": null,
            "flex": null,
            "flex_flow": null,
            "grid_area": null,
            "grid_auto_columns": null,
            "grid_auto_flow": null,
            "grid_auto_rows": null,
            "grid_column": null,
            "grid_gap": null,
            "grid_row": null,
            "grid_template_areas": null,
            "grid_template_columns": null,
            "grid_template_rows": null,
            "height": null,
            "justify_content": null,
            "justify_items": null,
            "left": null,
            "margin": null,
            "max_height": null,
            "max_width": null,
            "min_height": null,
            "min_width": null,
            "object_fit": null,
            "object_position": null,
            "order": null,
            "overflow": null,
            "overflow_x": null,
            "overflow_y": null,
            "padding": null,
            "right": null,
            "top": null,
            "visibility": null,
            "width": null
          }
        },
        "463cffee280149839446bc65356cd886": {
          "model_module": "@jupyter-widgets/controls",
          "model_name": "DescriptionStyleModel",
          "model_module_version": "1.5.0",
          "state": {
            "_model_module": "@jupyter-widgets/controls",
            "_model_module_version": "1.5.0",
            "_model_name": "DescriptionStyleModel",
            "_view_count": null,
            "_view_module": "@jupyter-widgets/base",
            "_view_module_version": "1.2.0",
            "_view_name": "StyleView",
            "description_width": ""
          }
        },
        "9d8fc5253b5f42239724dace1c74d417": {
          "model_module": "@jupyter-widgets/controls",
          "model_name": "HBoxModel",
          "model_module_version": "1.5.0",
          "state": {
            "_dom_classes": [],
            "_model_module": "@jupyter-widgets/controls",
            "_model_module_version": "1.5.0",
            "_model_name": "HBoxModel",
            "_view_count": null,
            "_view_module": "@jupyter-widgets/controls",
            "_view_module_version": "1.5.0",
            "_view_name": "HBoxView",
            "box_style": "",
            "children": [
              "IPY_MODEL_d2e44e67380b441fb39261062d4e48ad",
              "IPY_MODEL_a41fa31b591244da8b39b06baba5e2f2",
              "IPY_MODEL_b6b4abe25526416c8b032d3a13ee1aed"
            ],
            "layout": "IPY_MODEL_31abdc9003ea43129b188bcfd7843a35"
          }
        },
        "d2e44e67380b441fb39261062d4e48ad": {
          "model_module": "@jupyter-widgets/controls",
          "model_name": "HTMLModel",
          "model_module_version": "1.5.0",
          "state": {
            "_dom_classes": [],
            "_model_module": "@jupyter-widgets/controls",
            "_model_module_version": "1.5.0",
            "_model_name": "HTMLModel",
            "_view_count": null,
            "_view_module": "@jupyter-widgets/controls",
            "_view_module_version": "1.5.0",
            "_view_name": "HTMLView",
            "description": "",
            "description_tooltip": null,
            "layout": "IPY_MODEL_512171b005264237b1f4b04a66f29c48",
            "placeholder": "​",
            "style": "IPY_MODEL_702f62b0c5644c3582b743503330ba4a",
            "value": "special_tokens_map.json: 100%"
          }
        },
        "a41fa31b591244da8b39b06baba5e2f2": {
          "model_module": "@jupyter-widgets/controls",
          "model_name": "FloatProgressModel",
          "model_module_version": "1.5.0",
          "state": {
            "_dom_classes": [],
            "_model_module": "@jupyter-widgets/controls",
            "_model_module_version": "1.5.0",
            "_model_name": "FloatProgressModel",
            "_view_count": null,
            "_view_module": "@jupyter-widgets/controls",
            "_view_module_version": "1.5.0",
            "_view_name": "ProgressView",
            "bar_style": "success",
            "description": "",
            "description_tooltip": null,
            "layout": "IPY_MODEL_fc8ed81779ce4151bc6cdf5c0dba3f44",
            "max": 150,
            "min": 0,
            "orientation": "horizontal",
            "style": "IPY_MODEL_c2d2c2af048345ffa1d72d2d081d9438",
            "value": 150
          }
        },
        "b6b4abe25526416c8b032d3a13ee1aed": {
          "model_module": "@jupyter-widgets/controls",
          "model_name": "HTMLModel",
          "model_module_version": "1.5.0",
          "state": {
            "_dom_classes": [],
            "_model_module": "@jupyter-widgets/controls",
            "_model_module_version": "1.5.0",
            "_model_name": "HTMLModel",
            "_view_count": null,
            "_view_module": "@jupyter-widgets/controls",
            "_view_module_version": "1.5.0",
            "_view_name": "HTMLView",
            "description": "",
            "description_tooltip": null,
            "layout": "IPY_MODEL_172f199cbfb840c5b2898513103f8fd5",
            "placeholder": "​",
            "style": "IPY_MODEL_d0f85c7c237643c3889970294358040b",
            "value": " 150/150 [00:00&lt;00:00, 2.26kB/s]"
          }
        },
        "31abdc9003ea43129b188bcfd7843a35": {
          "model_module": "@jupyter-widgets/base",
          "model_name": "LayoutModel",
          "model_module_version": "1.2.0",
          "state": {
            "_model_module": "@jupyter-widgets/base",
            "_model_module_version": "1.2.0",
            "_model_name": "LayoutModel",
            "_view_count": null,
            "_view_module": "@jupyter-widgets/base",
            "_view_module_version": "1.2.0",
            "_view_name": "LayoutView",
            "align_content": null,
            "align_items": null,
            "align_self": null,
            "border": null,
            "bottom": null,
            "display": null,
            "flex": null,
            "flex_flow": null,
            "grid_area": null,
            "grid_auto_columns": null,
            "grid_auto_flow": null,
            "grid_auto_rows": null,
            "grid_column": null,
            "grid_gap": null,
            "grid_row": null,
            "grid_template_areas": null,
            "grid_template_columns": null,
            "grid_template_rows": null,
            "height": null,
            "justify_content": null,
            "justify_items": null,
            "left": null,
            "margin": null,
            "max_height": null,
            "max_width": null,
            "min_height": null,
            "min_width": null,
            "object_fit": null,
            "object_position": null,
            "order": null,
            "overflow": null,
            "overflow_x": null,
            "overflow_y": null,
            "padding": null,
            "right": null,
            "top": null,
            "visibility": null,
            "width": null
          }
        },
        "512171b005264237b1f4b04a66f29c48": {
          "model_module": "@jupyter-widgets/base",
          "model_name": "LayoutModel",
          "model_module_version": "1.2.0",
          "state": {
            "_model_module": "@jupyter-widgets/base",
            "_model_module_version": "1.2.0",
            "_model_name": "LayoutModel",
            "_view_count": null,
            "_view_module": "@jupyter-widgets/base",
            "_view_module_version": "1.2.0",
            "_view_name": "LayoutView",
            "align_content": null,
            "align_items": null,
            "align_self": null,
            "border": null,
            "bottom": null,
            "display": null,
            "flex": null,
            "flex_flow": null,
            "grid_area": null,
            "grid_auto_columns": null,
            "grid_auto_flow": null,
            "grid_auto_rows": null,
            "grid_column": null,
            "grid_gap": null,
            "grid_row": null,
            "grid_template_areas": null,
            "grid_template_columns": null,
            "grid_template_rows": null,
            "height": null,
            "justify_content": null,
            "justify_items": null,
            "left": null,
            "margin": null,
            "max_height": null,
            "max_width": null,
            "min_height": null,
            "min_width": null,
            "object_fit": null,
            "object_position": null,
            "order": null,
            "overflow": null,
            "overflow_x": null,
            "overflow_y": null,
            "padding": null,
            "right": null,
            "top": null,
            "visibility": null,
            "width": null
          }
        },
        "702f62b0c5644c3582b743503330ba4a": {
          "model_module": "@jupyter-widgets/controls",
          "model_name": "DescriptionStyleModel",
          "model_module_version": "1.5.0",
          "state": {
            "_model_module": "@jupyter-widgets/controls",
            "_model_module_version": "1.5.0",
            "_model_name": "DescriptionStyleModel",
            "_view_count": null,
            "_view_module": "@jupyter-widgets/base",
            "_view_module_version": "1.2.0",
            "_view_name": "StyleView",
            "description_width": ""
          }
        },
        "fc8ed81779ce4151bc6cdf5c0dba3f44": {
          "model_module": "@jupyter-widgets/base",
          "model_name": "LayoutModel",
          "model_module_version": "1.2.0",
          "state": {
            "_model_module": "@jupyter-widgets/base",
            "_model_module_version": "1.2.0",
            "_model_name": "LayoutModel",
            "_view_count": null,
            "_view_module": "@jupyter-widgets/base",
            "_view_module_version": "1.2.0",
            "_view_name": "LayoutView",
            "align_content": null,
            "align_items": null,
            "align_self": null,
            "border": null,
            "bottom": null,
            "display": null,
            "flex": null,
            "flex_flow": null,
            "grid_area": null,
            "grid_auto_columns": null,
            "grid_auto_flow": null,
            "grid_auto_rows": null,
            "grid_column": null,
            "grid_gap": null,
            "grid_row": null,
            "grid_template_areas": null,
            "grid_template_columns": null,
            "grid_template_rows": null,
            "height": null,
            "justify_content": null,
            "justify_items": null,
            "left": null,
            "margin": null,
            "max_height": null,
            "max_width": null,
            "min_height": null,
            "min_width": null,
            "object_fit": null,
            "object_position": null,
            "order": null,
            "overflow": null,
            "overflow_x": null,
            "overflow_y": null,
            "padding": null,
            "right": null,
            "top": null,
            "visibility": null,
            "width": null
          }
        },
        "c2d2c2af048345ffa1d72d2d081d9438": {
          "model_module": "@jupyter-widgets/controls",
          "model_name": "ProgressStyleModel",
          "model_module_version": "1.5.0",
          "state": {
            "_model_module": "@jupyter-widgets/controls",
            "_model_module_version": "1.5.0",
            "_model_name": "ProgressStyleModel",
            "_view_count": null,
            "_view_module": "@jupyter-widgets/base",
            "_view_module_version": "1.2.0",
            "_view_name": "StyleView",
            "bar_color": null,
            "description_width": ""
          }
        },
        "172f199cbfb840c5b2898513103f8fd5": {
          "model_module": "@jupyter-widgets/base",
          "model_name": "LayoutModel",
          "model_module_version": "1.2.0",
          "state": {
            "_model_module": "@jupyter-widgets/base",
            "_model_module_version": "1.2.0",
            "_model_name": "LayoutModel",
            "_view_count": null,
            "_view_module": "@jupyter-widgets/base",
            "_view_module_version": "1.2.0",
            "_view_name": "LayoutView",
            "align_content": null,
            "align_items": null,
            "align_self": null,
            "border": null,
            "bottom": null,
            "display": null,
            "flex": null,
            "flex_flow": null,
            "grid_area": null,
            "grid_auto_columns": null,
            "grid_auto_flow": null,
            "grid_auto_rows": null,
            "grid_column": null,
            "grid_gap": null,
            "grid_row": null,
            "grid_template_areas": null,
            "grid_template_columns": null,
            "grid_template_rows": null,
            "height": null,
            "justify_content": null,
            "justify_items": null,
            "left": null,
            "margin": null,
            "max_height": null,
            "max_width": null,
            "min_height": null,
            "min_width": null,
            "object_fit": null,
            "object_position": null,
            "order": null,
            "overflow": null,
            "overflow_x": null,
            "overflow_y": null,
            "padding": null,
            "right": null,
            "top": null,
            "visibility": null,
            "width": null
          }
        },
        "d0f85c7c237643c3889970294358040b": {
          "model_module": "@jupyter-widgets/controls",
          "model_name": "DescriptionStyleModel",
          "model_module_version": "1.5.0",
          "state": {
            "_model_module": "@jupyter-widgets/controls",
            "_model_module_version": "1.5.0",
            "_model_name": "DescriptionStyleModel",
            "_view_count": null,
            "_view_module": "@jupyter-widgets/base",
            "_view_module_version": "1.2.0",
            "_view_name": "StyleView",
            "description_width": ""
          }
        },
        "d172f51a6dd94012b07639fbae6a8dba": {
          "model_module": "@jupyter-widgets/controls",
          "model_name": "HBoxModel",
          "model_module_version": "1.5.0",
          "state": {
            "_dom_classes": [],
            "_model_module": "@jupyter-widgets/controls",
            "_model_module_version": "1.5.0",
            "_model_name": "HBoxModel",
            "_view_count": null,
            "_view_module": "@jupyter-widgets/controls",
            "_view_module_version": "1.5.0",
            "_view_name": "HBoxView",
            "box_style": "",
            "children": [
              "IPY_MODEL_e68c51b55c50419b8d4d9be8263ab782",
              "IPY_MODEL_3427e76c6f384ee7be169d42ad1cb490",
              "IPY_MODEL_1e098f9746df4de08dd4bf530f330a65"
            ],
            "layout": "IPY_MODEL_196503fd07844ad794e1e17b4f3cfd3c"
          }
        },
        "e68c51b55c50419b8d4d9be8263ab782": {
          "model_module": "@jupyter-widgets/controls",
          "model_name": "HTMLModel",
          "model_module_version": "1.5.0",
          "state": {
            "_dom_classes": [],
            "_model_module": "@jupyter-widgets/controls",
            "_model_module_version": "1.5.0",
            "_model_name": "HTMLModel",
            "_view_count": null,
            "_view_module": "@jupyter-widgets/controls",
            "_view_module_version": "1.5.0",
            "_view_name": "HTMLView",
            "description": "",
            "description_tooltip": null,
            "layout": "IPY_MODEL_5a1bb2393e9b46459b953ba4b02bd0e4",
            "placeholder": "​",
            "style": "IPY_MODEL_7b7c19a65d904c39a12a4bfe4ed658ae",
            "value": "config.json: 100%"
          }
        },
        "3427e76c6f384ee7be169d42ad1cb490": {
          "model_module": "@jupyter-widgets/controls",
          "model_name": "FloatProgressModel",
          "model_module_version": "1.5.0",
          "state": {
            "_dom_classes": [],
            "_model_module": "@jupyter-widgets/controls",
            "_model_module_version": "1.5.0",
            "_model_name": "FloatProgressModel",
            "_view_count": null,
            "_view_module": "@jupyter-widgets/controls",
            "_view_module_version": "1.5.0",
            "_view_name": "ProgressView",
            "bar_style": "success",
            "description": "",
            "description_tooltip": null,
            "layout": "IPY_MODEL_12ea07bf7c634083843a154fd36560fa",
            "max": 501,
            "min": 0,
            "orientation": "horizontal",
            "style": "IPY_MODEL_dcab666d7897460fb9d9eb7d922f12f4",
            "value": 501
          }
        },
        "1e098f9746df4de08dd4bf530f330a65": {
          "model_module": "@jupyter-widgets/controls",
          "model_name": "HTMLModel",
          "model_module_version": "1.5.0",
          "state": {
            "_dom_classes": [],
            "_model_module": "@jupyter-widgets/controls",
            "_model_module_version": "1.5.0",
            "_model_name": "HTMLModel",
            "_view_count": null,
            "_view_module": "@jupyter-widgets/controls",
            "_view_module_version": "1.5.0",
            "_view_name": "HTMLView",
            "description": "",
            "description_tooltip": null,
            "layout": "IPY_MODEL_590d1550e8f34765adb9824f09ca1c2e",
            "placeholder": "​",
            "style": "IPY_MODEL_f045901fdac44a90a9ae36fb1ed4bb76",
            "value": " 501/501 [00:00&lt;00:00, 8.11kB/s]"
          }
        },
        "196503fd07844ad794e1e17b4f3cfd3c": {
          "model_module": "@jupyter-widgets/base",
          "model_name": "LayoutModel",
          "model_module_version": "1.2.0",
          "state": {
            "_model_module": "@jupyter-widgets/base",
            "_model_module_version": "1.2.0",
            "_model_name": "LayoutModel",
            "_view_count": null,
            "_view_module": "@jupyter-widgets/base",
            "_view_module_version": "1.2.0",
            "_view_name": "LayoutView",
            "align_content": null,
            "align_items": null,
            "align_self": null,
            "border": null,
            "bottom": null,
            "display": null,
            "flex": null,
            "flex_flow": null,
            "grid_area": null,
            "grid_auto_columns": null,
            "grid_auto_flow": null,
            "grid_auto_rows": null,
            "grid_column": null,
            "grid_gap": null,
            "grid_row": null,
            "grid_template_areas": null,
            "grid_template_columns": null,
            "grid_template_rows": null,
            "height": null,
            "justify_content": null,
            "justify_items": null,
            "left": null,
            "margin": null,
            "max_height": null,
            "max_width": null,
            "min_height": null,
            "min_width": null,
            "object_fit": null,
            "object_position": null,
            "order": null,
            "overflow": null,
            "overflow_x": null,
            "overflow_y": null,
            "padding": null,
            "right": null,
            "top": null,
            "visibility": null,
            "width": null
          }
        },
        "5a1bb2393e9b46459b953ba4b02bd0e4": {
          "model_module": "@jupyter-widgets/base",
          "model_name": "LayoutModel",
          "model_module_version": "1.2.0",
          "state": {
            "_model_module": "@jupyter-widgets/base",
            "_model_module_version": "1.2.0",
            "_model_name": "LayoutModel",
            "_view_count": null,
            "_view_module": "@jupyter-widgets/base",
            "_view_module_version": "1.2.0",
            "_view_name": "LayoutView",
            "align_content": null,
            "align_items": null,
            "align_self": null,
            "border": null,
            "bottom": null,
            "display": null,
            "flex": null,
            "flex_flow": null,
            "grid_area": null,
            "grid_auto_columns": null,
            "grid_auto_flow": null,
            "grid_auto_rows": null,
            "grid_column": null,
            "grid_gap": null,
            "grid_row": null,
            "grid_template_areas": null,
            "grid_template_columns": null,
            "grid_template_rows": null,
            "height": null,
            "justify_content": null,
            "justify_items": null,
            "left": null,
            "margin": null,
            "max_height": null,
            "max_width": null,
            "min_height": null,
            "min_width": null,
            "object_fit": null,
            "object_position": null,
            "order": null,
            "overflow": null,
            "overflow_x": null,
            "overflow_y": null,
            "padding": null,
            "right": null,
            "top": null,
            "visibility": null,
            "width": null
          }
        },
        "7b7c19a65d904c39a12a4bfe4ed658ae": {
          "model_module": "@jupyter-widgets/controls",
          "model_name": "DescriptionStyleModel",
          "model_module_version": "1.5.0",
          "state": {
            "_model_module": "@jupyter-widgets/controls",
            "_model_module_version": "1.5.0",
            "_model_name": "DescriptionStyleModel",
            "_view_count": null,
            "_view_module": "@jupyter-widgets/base",
            "_view_module_version": "1.2.0",
            "_view_name": "StyleView",
            "description_width": ""
          }
        },
        "12ea07bf7c634083843a154fd36560fa": {
          "model_module": "@jupyter-widgets/base",
          "model_name": "LayoutModel",
          "model_module_version": "1.2.0",
          "state": {
            "_model_module": "@jupyter-widgets/base",
            "_model_module_version": "1.2.0",
            "_model_name": "LayoutModel",
            "_view_count": null,
            "_view_module": "@jupyter-widgets/base",
            "_view_module_version": "1.2.0",
            "_view_name": "LayoutView",
            "align_content": null,
            "align_items": null,
            "align_self": null,
            "border": null,
            "bottom": null,
            "display": null,
            "flex": null,
            "flex_flow": null,
            "grid_area": null,
            "grid_auto_columns": null,
            "grid_auto_flow": null,
            "grid_auto_rows": null,
            "grid_column": null,
            "grid_gap": null,
            "grid_row": null,
            "grid_template_areas": null,
            "grid_template_columns": null,
            "grid_template_rows": null,
            "height": null,
            "justify_content": null,
            "justify_items": null,
            "left": null,
            "margin": null,
            "max_height": null,
            "max_width": null,
            "min_height": null,
            "min_width": null,
            "object_fit": null,
            "object_position": null,
            "order": null,
            "overflow": null,
            "overflow_x": null,
            "overflow_y": null,
            "padding": null,
            "right": null,
            "top": null,
            "visibility": null,
            "width": null
          }
        },
        "dcab666d7897460fb9d9eb7d922f12f4": {
          "model_module": "@jupyter-widgets/controls",
          "model_name": "ProgressStyleModel",
          "model_module_version": "1.5.0",
          "state": {
            "_model_module": "@jupyter-widgets/controls",
            "_model_module_version": "1.5.0",
            "_model_name": "ProgressStyleModel",
            "_view_count": null,
            "_view_module": "@jupyter-widgets/base",
            "_view_module_version": "1.2.0",
            "_view_name": "StyleView",
            "bar_color": null,
            "description_width": ""
          }
        },
        "590d1550e8f34765adb9824f09ca1c2e": {
          "model_module": "@jupyter-widgets/base",
          "model_name": "LayoutModel",
          "model_module_version": "1.2.0",
          "state": {
            "_model_module": "@jupyter-widgets/base",
            "_model_module_version": "1.2.0",
            "_model_name": "LayoutModel",
            "_view_count": null,
            "_view_module": "@jupyter-widgets/base",
            "_view_module_version": "1.2.0",
            "_view_name": "LayoutView",
            "align_content": null,
            "align_items": null,
            "align_self": null,
            "border": null,
            "bottom": null,
            "display": null,
            "flex": null,
            "flex_flow": null,
            "grid_area": null,
            "grid_auto_columns": null,
            "grid_auto_flow": null,
            "grid_auto_rows": null,
            "grid_column": null,
            "grid_gap": null,
            "grid_row": null,
            "grid_template_areas": null,
            "grid_template_columns": null,
            "grid_template_rows": null,
            "height": null,
            "justify_content": null,
            "justify_items": null,
            "left": null,
            "margin": null,
            "max_height": null,
            "max_width": null,
            "min_height": null,
            "min_width": null,
            "object_fit": null,
            "object_position": null,
            "order": null,
            "overflow": null,
            "overflow_x": null,
            "overflow_y": null,
            "padding": null,
            "right": null,
            "top": null,
            "visibility": null,
            "width": null
          }
        },
        "f045901fdac44a90a9ae36fb1ed4bb76": {
          "model_module": "@jupyter-widgets/controls",
          "model_name": "DescriptionStyleModel",
          "model_module_version": "1.5.0",
          "state": {
            "_model_module": "@jupyter-widgets/controls",
            "_model_module_version": "1.5.0",
            "_model_name": "DescriptionStyleModel",
            "_view_count": null,
            "_view_module": "@jupyter-widgets/base",
            "_view_module_version": "1.2.0",
            "_view_name": "StyleView",
            "description_width": ""
          }
        },
        "91e65ea41e12401dba0a3b6a25d502b2": {
          "model_module": "@jupyter-widgets/controls",
          "model_name": "HBoxModel",
          "model_module_version": "1.5.0",
          "state": {
            "_dom_classes": [],
            "_model_module": "@jupyter-widgets/controls",
            "_model_module_version": "1.5.0",
            "_model_name": "HBoxModel",
            "_view_count": null,
            "_view_module": "@jupyter-widgets/controls",
            "_view_module_version": "1.5.0",
            "_view_name": "HBoxView",
            "box_style": "",
            "children": [
              "IPY_MODEL_e8c6840896954a00bbff86652924d387",
              "IPY_MODEL_4779be23613844fea7793fc6542c35f1",
              "IPY_MODEL_6a9f721eea734a889113ddafa7801ae4"
            ],
            "layout": "IPY_MODEL_5deaace4bc664c44914907ce7608a489"
          }
        },
        "e8c6840896954a00bbff86652924d387": {
          "model_module": "@jupyter-widgets/controls",
          "model_name": "HTMLModel",
          "model_module_version": "1.5.0",
          "state": {
            "_dom_classes": [],
            "_model_module": "@jupyter-widgets/controls",
            "_model_module_version": "1.5.0",
            "_model_name": "HTMLModel",
            "_view_count": null,
            "_view_module": "@jupyter-widgets/controls",
            "_view_module_version": "1.5.0",
            "_view_name": "HTMLView",
            "description": "",
            "description_tooltip": null,
            "layout": "IPY_MODEL_d03d194ab59c460e982c5d978c1511fe",
            "placeholder": "​",
            "style": "IPY_MODEL_8ee1a8cd3c514e07883e00d41f590baf",
            "value": "pytorch_model.bin: 100%"
          }
        },
        "4779be23613844fea7793fc6542c35f1": {
          "model_module": "@jupyter-widgets/controls",
          "model_name": "FloatProgressModel",
          "model_module_version": "1.5.0",
          "state": {
            "_dom_classes": [],
            "_model_module": "@jupyter-widgets/controls",
            "_model_module_version": "1.5.0",
            "_model_name": "FloatProgressModel",
            "_view_count": null,
            "_view_module": "@jupyter-widgets/controls",
            "_view_module_version": "1.5.0",
            "_view_name": "ProgressView",
            "bar_style": "success",
            "description": "",
            "description_tooltip": null,
            "layout": "IPY_MODEL_20fd96704a704d1c99c28c41075e4394",
            "max": 178812144,
            "min": 0,
            "orientation": "horizontal",
            "style": "IPY_MODEL_c88e35250c764832ba6ff02f80c784ab",
            "value": 178812144
          }
        },
        "6a9f721eea734a889113ddafa7801ae4": {
          "model_module": "@jupyter-widgets/controls",
          "model_name": "HTMLModel",
          "model_module_version": "1.5.0",
          "state": {
            "_dom_classes": [],
            "_model_module": "@jupyter-widgets/controls",
            "_model_module_version": "1.5.0",
            "_model_name": "HTMLModel",
            "_view_count": null,
            "_view_module": "@jupyter-widgets/controls",
            "_view_module_version": "1.5.0",
            "_view_name": "HTMLView",
            "description": "",
            "description_tooltip": null,
            "layout": "IPY_MODEL_7c939a10db634caebdb094ac298b2b5e",
            "placeholder": "​",
            "style": "IPY_MODEL_438412c7a1bb4353a08801d6111871bf",
            "value": " 179M/179M [00:03&lt;00:00, 58.8MB/s]"
          }
        },
        "5deaace4bc664c44914907ce7608a489": {
          "model_module": "@jupyter-widgets/base",
          "model_name": "LayoutModel",
          "model_module_version": "1.2.0",
          "state": {
            "_model_module": "@jupyter-widgets/base",
            "_model_module_version": "1.2.0",
            "_model_name": "LayoutModel",
            "_view_count": null,
            "_view_module": "@jupyter-widgets/base",
            "_view_module_version": "1.2.0",
            "_view_name": "LayoutView",
            "align_content": null,
            "align_items": null,
            "align_self": null,
            "border": null,
            "bottom": null,
            "display": null,
            "flex": null,
            "flex_flow": null,
            "grid_area": null,
            "grid_auto_columns": null,
            "grid_auto_flow": null,
            "grid_auto_rows": null,
            "grid_column": null,
            "grid_gap": null,
            "grid_row": null,
            "grid_template_areas": null,
            "grid_template_columns": null,
            "grid_template_rows": null,
            "height": null,
            "justify_content": null,
            "justify_items": null,
            "left": null,
            "margin": null,
            "max_height": null,
            "max_width": null,
            "min_height": null,
            "min_width": null,
            "object_fit": null,
            "object_position": null,
            "order": null,
            "overflow": null,
            "overflow_x": null,
            "overflow_y": null,
            "padding": null,
            "right": null,
            "top": null,
            "visibility": null,
            "width": null
          }
        },
        "d03d194ab59c460e982c5d978c1511fe": {
          "model_module": "@jupyter-widgets/base",
          "model_name": "LayoutModel",
          "model_module_version": "1.2.0",
          "state": {
            "_model_module": "@jupyter-widgets/base",
            "_model_module_version": "1.2.0",
            "_model_name": "LayoutModel",
            "_view_count": null,
            "_view_module": "@jupyter-widgets/base",
            "_view_module_version": "1.2.0",
            "_view_name": "LayoutView",
            "align_content": null,
            "align_items": null,
            "align_self": null,
            "border": null,
            "bottom": null,
            "display": null,
            "flex": null,
            "flex_flow": null,
            "grid_area": null,
            "grid_auto_columns": null,
            "grid_auto_flow": null,
            "grid_auto_rows": null,
            "grid_column": null,
            "grid_gap": null,
            "grid_row": null,
            "grid_template_areas": null,
            "grid_template_columns": null,
            "grid_template_rows": null,
            "height": null,
            "justify_content": null,
            "justify_items": null,
            "left": null,
            "margin": null,
            "max_height": null,
            "max_width": null,
            "min_height": null,
            "min_width": null,
            "object_fit": null,
            "object_position": null,
            "order": null,
            "overflow": null,
            "overflow_x": null,
            "overflow_y": null,
            "padding": null,
            "right": null,
            "top": null,
            "visibility": null,
            "width": null
          }
        },
        "8ee1a8cd3c514e07883e00d41f590baf": {
          "model_module": "@jupyter-widgets/controls",
          "model_name": "DescriptionStyleModel",
          "model_module_version": "1.5.0",
          "state": {
            "_model_module": "@jupyter-widgets/controls",
            "_model_module_version": "1.5.0",
            "_model_name": "DescriptionStyleModel",
            "_view_count": null,
            "_view_module": "@jupyter-widgets/base",
            "_view_module_version": "1.2.0",
            "_view_name": "StyleView",
            "description_width": ""
          }
        },
        "20fd96704a704d1c99c28c41075e4394": {
          "model_module": "@jupyter-widgets/base",
          "model_name": "LayoutModel",
          "model_module_version": "1.2.0",
          "state": {
            "_model_module": "@jupyter-widgets/base",
            "_model_module_version": "1.2.0",
            "_model_name": "LayoutModel",
            "_view_count": null,
            "_view_module": "@jupyter-widgets/base",
            "_view_module_version": "1.2.0",
            "_view_name": "LayoutView",
            "align_content": null,
            "align_items": null,
            "align_self": null,
            "border": null,
            "bottom": null,
            "display": null,
            "flex": null,
            "flex_flow": null,
            "grid_area": null,
            "grid_auto_columns": null,
            "grid_auto_flow": null,
            "grid_auto_rows": null,
            "grid_column": null,
            "grid_gap": null,
            "grid_row": null,
            "grid_template_areas": null,
            "grid_template_columns": null,
            "grid_template_rows": null,
            "height": null,
            "justify_content": null,
            "justify_items": null,
            "left": null,
            "margin": null,
            "max_height": null,
            "max_width": null,
            "min_height": null,
            "min_width": null,
            "object_fit": null,
            "object_position": null,
            "order": null,
            "overflow": null,
            "overflow_x": null,
            "overflow_y": null,
            "padding": null,
            "right": null,
            "top": null,
            "visibility": null,
            "width": null
          }
        },
        "c88e35250c764832ba6ff02f80c784ab": {
          "model_module": "@jupyter-widgets/controls",
          "model_name": "ProgressStyleModel",
          "model_module_version": "1.5.0",
          "state": {
            "_model_module": "@jupyter-widgets/controls",
            "_model_module_version": "1.5.0",
            "_model_name": "ProgressStyleModel",
            "_view_count": null,
            "_view_module": "@jupyter-widgets/base",
            "_view_module_version": "1.2.0",
            "_view_name": "StyleView",
            "bar_color": null,
            "description_width": ""
          }
        },
        "7c939a10db634caebdb094ac298b2b5e": {
          "model_module": "@jupyter-widgets/base",
          "model_name": "LayoutModel",
          "model_module_version": "1.2.0",
          "state": {
            "_model_module": "@jupyter-widgets/base",
            "_model_module_version": "1.2.0",
            "_model_name": "LayoutModel",
            "_view_count": null,
            "_view_module": "@jupyter-widgets/base",
            "_view_module_version": "1.2.0",
            "_view_name": "LayoutView",
            "align_content": null,
            "align_items": null,
            "align_self": null,
            "border": null,
            "bottom": null,
            "display": null,
            "flex": null,
            "flex_flow": null,
            "grid_area": null,
            "grid_auto_columns": null,
            "grid_auto_flow": null,
            "grid_auto_rows": null,
            "grid_column": null,
            "grid_gap": null,
            "grid_row": null,
            "grid_template_areas": null,
            "grid_template_columns": null,
            "grid_template_rows": null,
            "height": null,
            "justify_content": null,
            "justify_items": null,
            "left": null,
            "margin": null,
            "max_height": null,
            "max_width": null,
            "min_height": null,
            "min_width": null,
            "object_fit": null,
            "object_position": null,
            "order": null,
            "overflow": null,
            "overflow_x": null,
            "overflow_y": null,
            "padding": null,
            "right": null,
            "top": null,
            "visibility": null,
            "width": null
          }
        },
        "438412c7a1bb4353a08801d6111871bf": {
          "model_module": "@jupyter-widgets/controls",
          "model_name": "DescriptionStyleModel",
          "model_module_version": "1.5.0",
          "state": {
            "_model_module": "@jupyter-widgets/controls",
            "_model_module_version": "1.5.0",
            "_model_name": "DescriptionStyleModel",
            "_view_count": null,
            "_view_module": "@jupyter-widgets/base",
            "_view_module_version": "1.2.0",
            "_view_name": "StyleView",
            "description_width": ""
          }
        }
      }
    }
  },
  "cells": [
    {
      "cell_type": "code",
      "source": [
        "!pip install rdkit"
      ],
      "metadata": {
        "colab": {
          "base_uri": "https://localhost:8080/"
        },
        "id": "n2yk5xsniWqY",
        "outputId": "c07e75c0-8097-498e-dd53-cc02669e8339"
      },
      "execution_count": 1,
      "outputs": [
        {
          "output_type": "stream",
          "name": "stdout",
          "text": [
            "Collecting rdkit\n",
            "  Downloading rdkit-2024.3.5-cp310-cp310-manylinux_2_28_x86_64.whl.metadata (3.9 kB)\n",
            "Requirement already satisfied: numpy in /usr/local/lib/python3.10/dist-packages (from rdkit) (1.26.4)\n",
            "Requirement already satisfied: Pillow in /usr/local/lib/python3.10/dist-packages (from rdkit) (10.4.0)\n",
            "Downloading rdkit-2024.3.5-cp310-cp310-manylinux_2_28_x86_64.whl (33.1 MB)\n",
            "\u001b[2K   \u001b[90m━━━━━━━━━━━━━━━━━━━━━━━━━━━━━━━━━━━━━━━━\u001b[0m \u001b[32m33.1/33.1 MB\u001b[0m \u001b[31m18.5 MB/s\u001b[0m eta \u001b[36m0:00:00\u001b[0m\n",
            "\u001b[?25hInstalling collected packages: rdkit\n",
            "Successfully installed rdkit-2024.3.5\n"
          ]
        }
      ]
    },
    {
      "cell_type": "code",
      "source": [
        "!pip install torch_geometric"
      ],
      "metadata": {
        "colab": {
          "base_uri": "https://localhost:8080/"
        },
        "id": "WN-JRMWCiboO",
        "outputId": "40abdfc8-5593-454a-b44d-f1577708a8e3"
      },
      "execution_count": 2,
      "outputs": [
        {
          "output_type": "stream",
          "name": "stdout",
          "text": [
            "Collecting torch_geometric\n",
            "  Downloading torch_geometric-2.6.1-py3-none-any.whl.metadata (63 kB)\n",
            "\u001b[?25l     \u001b[90m━━━━━━━━━━━━━━━━━━━━━━━━━━━━━━━━━━━━━━━━\u001b[0m \u001b[32m0.0/63.1 kB\u001b[0m \u001b[31m?\u001b[0m eta \u001b[36m-:--:--\u001b[0m\r\u001b[2K     \u001b[90m━━━━━━━━━━━━━━━━━━━━━━━━━━━━━━━━━━━━━━━━\u001b[0m \u001b[32m63.1/63.1 kB\u001b[0m \u001b[31m1.9 MB/s\u001b[0m eta \u001b[36m0:00:00\u001b[0m\n",
            "\u001b[?25hRequirement already satisfied: aiohttp in /usr/local/lib/python3.10/dist-packages (from torch_geometric) (3.10.10)\n",
            "Requirement already satisfied: fsspec in /usr/local/lib/python3.10/dist-packages (from torch_geometric) (2024.6.1)\n",
            "Requirement already satisfied: jinja2 in /usr/local/lib/python3.10/dist-packages (from torch_geometric) (3.1.4)\n",
            "Requirement already satisfied: numpy in /usr/local/lib/python3.10/dist-packages (from torch_geometric) (1.26.4)\n",
            "Requirement already satisfied: psutil>=5.8.0 in /usr/local/lib/python3.10/dist-packages (from torch_geometric) (5.9.5)\n",
            "Requirement already satisfied: pyparsing in /usr/local/lib/python3.10/dist-packages (from torch_geometric) (3.2.0)\n",
            "Requirement already satisfied: requests in /usr/local/lib/python3.10/dist-packages (from torch_geometric) (2.32.3)\n",
            "Requirement already satisfied: tqdm in /usr/local/lib/python3.10/dist-packages (from torch_geometric) (4.66.5)\n",
            "Requirement already satisfied: aiohappyeyeballs>=2.3.0 in /usr/local/lib/python3.10/dist-packages (from aiohttp->torch_geometric) (2.4.3)\n",
            "Requirement already satisfied: aiosignal>=1.1.2 in /usr/local/lib/python3.10/dist-packages (from aiohttp->torch_geometric) (1.3.1)\n",
            "Requirement already satisfied: attrs>=17.3.0 in /usr/local/lib/python3.10/dist-packages (from aiohttp->torch_geometric) (24.2.0)\n",
            "Requirement already satisfied: frozenlist>=1.1.1 in /usr/local/lib/python3.10/dist-packages (from aiohttp->torch_geometric) (1.4.1)\n",
            "Requirement already satisfied: multidict<7.0,>=4.5 in /usr/local/lib/python3.10/dist-packages (from aiohttp->torch_geometric) (6.1.0)\n",
            "Requirement already satisfied: yarl<2.0,>=1.12.0 in /usr/local/lib/python3.10/dist-packages (from aiohttp->torch_geometric) (1.15.2)\n",
            "Requirement already satisfied: async-timeout<5.0,>=4.0 in /usr/local/lib/python3.10/dist-packages (from aiohttp->torch_geometric) (4.0.3)\n",
            "Requirement already satisfied: MarkupSafe>=2.0 in /usr/local/lib/python3.10/dist-packages (from jinja2->torch_geometric) (3.0.1)\n",
            "Requirement already satisfied: charset-normalizer<4,>=2 in /usr/local/lib/python3.10/dist-packages (from requests->torch_geometric) (3.4.0)\n",
            "Requirement already satisfied: idna<4,>=2.5 in /usr/local/lib/python3.10/dist-packages (from requests->torch_geometric) (3.10)\n",
            "Requirement already satisfied: urllib3<3,>=1.21.1 in /usr/local/lib/python3.10/dist-packages (from requests->torch_geometric) (2.2.3)\n",
            "Requirement already satisfied: certifi>=2017.4.17 in /usr/local/lib/python3.10/dist-packages (from requests->torch_geometric) (2024.8.30)\n",
            "Requirement already satisfied: typing-extensions>=4.1.0 in /usr/local/lib/python3.10/dist-packages (from multidict<7.0,>=4.5->aiohttp->torch_geometric) (4.12.2)\n",
            "Requirement already satisfied: propcache>=0.2.0 in /usr/local/lib/python3.10/dist-packages (from yarl<2.0,>=1.12.0->aiohttp->torch_geometric) (0.2.0)\n",
            "Downloading torch_geometric-2.6.1-py3-none-any.whl (1.1 MB)\n",
            "\u001b[2K   \u001b[90m━━━━━━━━━━━━━━━━━━━━━━━━━━━━━━━━━━━━━━━━\u001b[0m \u001b[32m1.1/1.1 MB\u001b[0m \u001b[31m17.4 MB/s\u001b[0m eta \u001b[36m0:00:00\u001b[0m\n",
            "\u001b[?25hInstalling collected packages: torch_geometric\n",
            "Successfully installed torch_geometric-2.6.1\n"
          ]
        }
      ]
    },
    {
      "cell_type": "code",
      "source": [
        "!pip install torch"
      ],
      "metadata": {
        "colab": {
          "base_uri": "https://localhost:8080/"
        },
        "id": "YhrkZTh1idl1",
        "outputId": "4d58f118-b6ae-4663-a472-85d96845373e"
      },
      "execution_count": 3,
      "outputs": [
        {
          "output_type": "stream",
          "name": "stdout",
          "text": [
            "Requirement already satisfied: torch in /usr/local/lib/python3.10/dist-packages (2.4.1+cu121)\n",
            "Requirement already satisfied: filelock in /usr/local/lib/python3.10/dist-packages (from torch) (3.16.1)\n",
            "Requirement already satisfied: typing-extensions>=4.8.0 in /usr/local/lib/python3.10/dist-packages (from torch) (4.12.2)\n",
            "Requirement already satisfied: sympy in /usr/local/lib/python3.10/dist-packages (from torch) (1.13.3)\n",
            "Requirement already satisfied: networkx in /usr/local/lib/python3.10/dist-packages (from torch) (3.4.1)\n",
            "Requirement already satisfied: jinja2 in /usr/local/lib/python3.10/dist-packages (from torch) (3.1.4)\n",
            "Requirement already satisfied: fsspec in /usr/local/lib/python3.10/dist-packages (from torch) (2024.6.1)\n",
            "Requirement already satisfied: MarkupSafe>=2.0 in /usr/local/lib/python3.10/dist-packages (from jinja2->torch) (3.0.1)\n",
            "Requirement already satisfied: mpmath<1.4,>=1.1.0 in /usr/local/lib/python3.10/dist-packages (from sympy->torch) (1.3.0)\n"
          ]
        }
      ]
    },
    {
      "cell_type": "code",
      "source": [
        "import numpy as np\n",
        "import pandas as pd\n",
        "import matplotlib.pyplot as plt\n",
        "import seaborn as sns\n",
        "from sklearn.preprocessing import MinMaxScaler\n",
        "from sklearn.model_selection import train_test_split\n",
        "import torch\n",
        "import torch.optim as optim\n",
        "import torch.nn.functional as F\n",
        "from torch_geometric.data import Data\n",
        "from torch_geometric.loader import DataLoader\n",
        "from torch_geometric.nn import MessagePassing\n",
        "from tqdm import tqdm\n",
        "from sklearn.metrics import mean_squared_error, mean_absolute_error, r2_score\n",
        "from transformers import RobertaTokenizer, RobertaModel\n",
        "import torch_geometric.utils as utils"
      ],
      "metadata": {
        "id": "-4oMQSDQie0v"
      },
      "execution_count": 4,
      "outputs": []
    },
    {
      "cell_type": "code",
      "source": [
        "# Set device to GPU if available\n",
        "device = torch.device('cuda' if torch.cuda.is_available() else 'cpu')\n",
        "print(f\"Using device: {device}\")\n",
        "\n",
        "# Check if CUDA is available\n",
        "if torch.cuda.is_available():\n",
        "    print(\"CUDA is available!\")\n",
        "    print(f\"Device count: {torch.cuda.device_count()}\")\n",
        "    print(f\"Current device: {torch.cuda.current_device()}\")\n",
        "    print(f\"Device name: {torch.cuda.get_device_name(0)}\")\n",
        "else:\n",
        "    print(\"CUDA is NOT available.\")"
      ],
      "metadata": {
        "colab": {
          "base_uri": "https://localhost:8080/"
        },
        "id": "X-ULqA9TiiTO",
        "outputId": "8b776769-8368-47c0-a90d-50cb19dae525"
      },
      "execution_count": 8,
      "outputs": [
        {
          "output_type": "stream",
          "name": "stdout",
          "text": [
            "Using device: cuda\n",
            "CUDA is available!\n",
            "Device count: 1\n",
            "Current device: 0\n",
            "Device name: Tesla T4\n"
          ]
        }
      ]
    },
    {
      "cell_type": "code",
      "source": [
        "# Load the dataset\n",
        "file_path = 'zinc.csv'  # Adjust to your file path\n",
        "df = pd.read_csv(file_path)\n",
        "# Use a subset of 10,000 samples\n",
        "df = df.sample(n=50000, random_state=42).reset_index(drop=True)\n"
      ],
      "metadata": {
        "id": "lI_vK_s3ip3u"
      },
      "execution_count": 9,
      "outputs": []
    },
    {
      "cell_type": "code",
      "source": [
        "df.info()"
      ],
      "metadata": {
        "colab": {
          "base_uri": "https://localhost:8080/"
        },
        "id": "viS29-BbivaR",
        "outputId": "8619a3cd-5993-46c0-e5b4-06fc9e43a13a"
      },
      "execution_count": 10,
      "outputs": [
        {
          "output_type": "stream",
          "name": "stdout",
          "text": [
            "<class 'pandas.core.frame.DataFrame'>\n",
            "RangeIndex: 50000 entries, 0 to 49999\n",
            "Data columns (total 4 columns):\n",
            " #   Column  Non-Null Count  Dtype  \n",
            "---  ------  --------------  -----  \n",
            " 0   smiles  50000 non-null  object \n",
            " 1   logP    50000 non-null  float64\n",
            " 2   qed     50000 non-null  float64\n",
            " 3   SAS     50000 non-null  float64\n",
            "dtypes: float64(3), object(1)\n",
            "memory usage: 1.5+ MB\n"
          ]
        }
      ]
    },
    {
      "cell_type": "code",
      "source": [
        "df.describe()"
      ],
      "metadata": {
        "colab": {
          "base_uri": "https://localhost:8080/",
          "height": 300
        },
        "id": "F_NQv913i-va",
        "outputId": "0304706f-18ca-4ee8-9c61-f58e46828015"
      },
      "execution_count": 11,
      "outputs": [
        {
          "output_type": "execute_result",
          "data": {
            "text/plain": [
              "               logP           qed           SAS\n",
              "count  50000.000000  50000.000000  50000.000000\n",
              "mean       2.458761      0.728960      3.047878\n",
              "std        1.430576      0.139283      0.836226\n",
              "min       -6.032800      0.111811      1.301357\n",
              "25%        1.585300      0.646571      2.413281\n",
              "50%        2.610850      0.760996      2.883534\n",
              "75%        3.484585      0.836193      3.533836\n",
              "max        7.994220      0.947685      6.965023"
            ],
            "text/html": [
              "\n",
              "  <div id=\"df-924123b2-2df3-4257-be38-8885987b66b8\" class=\"colab-df-container\">\n",
              "    <div>\n",
              "<style scoped>\n",
              "    .dataframe tbody tr th:only-of-type {\n",
              "        vertical-align: middle;\n",
              "    }\n",
              "\n",
              "    .dataframe tbody tr th {\n",
              "        vertical-align: top;\n",
              "    }\n",
              "\n",
              "    .dataframe thead th {\n",
              "        text-align: right;\n",
              "    }\n",
              "</style>\n",
              "<table border=\"1\" class=\"dataframe\">\n",
              "  <thead>\n",
              "    <tr style=\"text-align: right;\">\n",
              "      <th></th>\n",
              "      <th>logP</th>\n",
              "      <th>qed</th>\n",
              "      <th>SAS</th>\n",
              "    </tr>\n",
              "  </thead>\n",
              "  <tbody>\n",
              "    <tr>\n",
              "      <th>count</th>\n",
              "      <td>50000.000000</td>\n",
              "      <td>50000.000000</td>\n",
              "      <td>50000.000000</td>\n",
              "    </tr>\n",
              "    <tr>\n",
              "      <th>mean</th>\n",
              "      <td>2.458761</td>\n",
              "      <td>0.728960</td>\n",
              "      <td>3.047878</td>\n",
              "    </tr>\n",
              "    <tr>\n",
              "      <th>std</th>\n",
              "      <td>1.430576</td>\n",
              "      <td>0.139283</td>\n",
              "      <td>0.836226</td>\n",
              "    </tr>\n",
              "    <tr>\n",
              "      <th>min</th>\n",
              "      <td>-6.032800</td>\n",
              "      <td>0.111811</td>\n",
              "      <td>1.301357</td>\n",
              "    </tr>\n",
              "    <tr>\n",
              "      <th>25%</th>\n",
              "      <td>1.585300</td>\n",
              "      <td>0.646571</td>\n",
              "      <td>2.413281</td>\n",
              "    </tr>\n",
              "    <tr>\n",
              "      <th>50%</th>\n",
              "      <td>2.610850</td>\n",
              "      <td>0.760996</td>\n",
              "      <td>2.883534</td>\n",
              "    </tr>\n",
              "    <tr>\n",
              "      <th>75%</th>\n",
              "      <td>3.484585</td>\n",
              "      <td>0.836193</td>\n",
              "      <td>3.533836</td>\n",
              "    </tr>\n",
              "    <tr>\n",
              "      <th>max</th>\n",
              "      <td>7.994220</td>\n",
              "      <td>0.947685</td>\n",
              "      <td>6.965023</td>\n",
              "    </tr>\n",
              "  </tbody>\n",
              "</table>\n",
              "</div>\n",
              "    <div class=\"colab-df-buttons\">\n",
              "\n",
              "  <div class=\"colab-df-container\">\n",
              "    <button class=\"colab-df-convert\" onclick=\"convertToInteractive('df-924123b2-2df3-4257-be38-8885987b66b8')\"\n",
              "            title=\"Convert this dataframe to an interactive table.\"\n",
              "            style=\"display:none;\">\n",
              "\n",
              "  <svg xmlns=\"http://www.w3.org/2000/svg\" height=\"24px\" viewBox=\"0 -960 960 960\">\n",
              "    <path d=\"M120-120v-720h720v720H120Zm60-500h600v-160H180v160Zm220 220h160v-160H400v160Zm0 220h160v-160H400v160ZM180-400h160v-160H180v160Zm440 0h160v-160H620v160ZM180-180h160v-160H180v160Zm440 0h160v-160H620v160Z\"/>\n",
              "  </svg>\n",
              "    </button>\n",
              "\n",
              "  <style>\n",
              "    .colab-df-container {\n",
              "      display:flex;\n",
              "      gap: 12px;\n",
              "    }\n",
              "\n",
              "    .colab-df-convert {\n",
              "      background-color: #E8F0FE;\n",
              "      border: none;\n",
              "      border-radius: 50%;\n",
              "      cursor: pointer;\n",
              "      display: none;\n",
              "      fill: #1967D2;\n",
              "      height: 32px;\n",
              "      padding: 0 0 0 0;\n",
              "      width: 32px;\n",
              "    }\n",
              "\n",
              "    .colab-df-convert:hover {\n",
              "      background-color: #E2EBFA;\n",
              "      box-shadow: 0px 1px 2px rgba(60, 64, 67, 0.3), 0px 1px 3px 1px rgba(60, 64, 67, 0.15);\n",
              "      fill: #174EA6;\n",
              "    }\n",
              "\n",
              "    .colab-df-buttons div {\n",
              "      margin-bottom: 4px;\n",
              "    }\n",
              "\n",
              "    [theme=dark] .colab-df-convert {\n",
              "      background-color: #3B4455;\n",
              "      fill: #D2E3FC;\n",
              "    }\n",
              "\n",
              "    [theme=dark] .colab-df-convert:hover {\n",
              "      background-color: #434B5C;\n",
              "      box-shadow: 0px 1px 3px 1px rgba(0, 0, 0, 0.15);\n",
              "      filter: drop-shadow(0px 1px 2px rgba(0, 0, 0, 0.3));\n",
              "      fill: #FFFFFF;\n",
              "    }\n",
              "  </style>\n",
              "\n",
              "    <script>\n",
              "      const buttonEl =\n",
              "        document.querySelector('#df-924123b2-2df3-4257-be38-8885987b66b8 button.colab-df-convert');\n",
              "      buttonEl.style.display =\n",
              "        google.colab.kernel.accessAllowed ? 'block' : 'none';\n",
              "\n",
              "      async function convertToInteractive(key) {\n",
              "        const element = document.querySelector('#df-924123b2-2df3-4257-be38-8885987b66b8');\n",
              "        const dataTable =\n",
              "          await google.colab.kernel.invokeFunction('convertToInteractive',\n",
              "                                                    [key], {});\n",
              "        if (!dataTable) return;\n",
              "\n",
              "        const docLinkHtml = 'Like what you see? Visit the ' +\n",
              "          '<a target=\"_blank\" href=https://colab.research.google.com/notebooks/data_table.ipynb>data table notebook</a>'\n",
              "          + ' to learn more about interactive tables.';\n",
              "        element.innerHTML = '';\n",
              "        dataTable['output_type'] = 'display_data';\n",
              "        await google.colab.output.renderOutput(dataTable, element);\n",
              "        const docLink = document.createElement('div');\n",
              "        docLink.innerHTML = docLinkHtml;\n",
              "        element.appendChild(docLink);\n",
              "      }\n",
              "    </script>\n",
              "  </div>\n",
              "\n",
              "\n",
              "<div id=\"df-f39d6230-87b1-4c27-a4aa-82188e534d01\">\n",
              "  <button class=\"colab-df-quickchart\" onclick=\"quickchart('df-f39d6230-87b1-4c27-a4aa-82188e534d01')\"\n",
              "            title=\"Suggest charts\"\n",
              "            style=\"display:none;\">\n",
              "\n",
              "<svg xmlns=\"http://www.w3.org/2000/svg\" height=\"24px\"viewBox=\"0 0 24 24\"\n",
              "     width=\"24px\">\n",
              "    <g>\n",
              "        <path d=\"M19 3H5c-1.1 0-2 .9-2 2v14c0 1.1.9 2 2 2h14c1.1 0 2-.9 2-2V5c0-1.1-.9-2-2-2zM9 17H7v-7h2v7zm4 0h-2V7h2v10zm4 0h-2v-4h2v4z\"/>\n",
              "    </g>\n",
              "</svg>\n",
              "  </button>\n",
              "\n",
              "<style>\n",
              "  .colab-df-quickchart {\n",
              "      --bg-color: #E8F0FE;\n",
              "      --fill-color: #1967D2;\n",
              "      --hover-bg-color: #E2EBFA;\n",
              "      --hover-fill-color: #174EA6;\n",
              "      --disabled-fill-color: #AAA;\n",
              "      --disabled-bg-color: #DDD;\n",
              "  }\n",
              "\n",
              "  [theme=dark] .colab-df-quickchart {\n",
              "      --bg-color: #3B4455;\n",
              "      --fill-color: #D2E3FC;\n",
              "      --hover-bg-color: #434B5C;\n",
              "      --hover-fill-color: #FFFFFF;\n",
              "      --disabled-bg-color: #3B4455;\n",
              "      --disabled-fill-color: #666;\n",
              "  }\n",
              "\n",
              "  .colab-df-quickchart {\n",
              "    background-color: var(--bg-color);\n",
              "    border: none;\n",
              "    border-radius: 50%;\n",
              "    cursor: pointer;\n",
              "    display: none;\n",
              "    fill: var(--fill-color);\n",
              "    height: 32px;\n",
              "    padding: 0;\n",
              "    width: 32px;\n",
              "  }\n",
              "\n",
              "  .colab-df-quickchart:hover {\n",
              "    background-color: var(--hover-bg-color);\n",
              "    box-shadow: 0 1px 2px rgba(60, 64, 67, 0.3), 0 1px 3px 1px rgba(60, 64, 67, 0.15);\n",
              "    fill: var(--button-hover-fill-color);\n",
              "  }\n",
              "\n",
              "  .colab-df-quickchart-complete:disabled,\n",
              "  .colab-df-quickchart-complete:disabled:hover {\n",
              "    background-color: var(--disabled-bg-color);\n",
              "    fill: var(--disabled-fill-color);\n",
              "    box-shadow: none;\n",
              "  }\n",
              "\n",
              "  .colab-df-spinner {\n",
              "    border: 2px solid var(--fill-color);\n",
              "    border-color: transparent;\n",
              "    border-bottom-color: var(--fill-color);\n",
              "    animation:\n",
              "      spin 1s steps(1) infinite;\n",
              "  }\n",
              "\n",
              "  @keyframes spin {\n",
              "    0% {\n",
              "      border-color: transparent;\n",
              "      border-bottom-color: var(--fill-color);\n",
              "      border-left-color: var(--fill-color);\n",
              "    }\n",
              "    20% {\n",
              "      border-color: transparent;\n",
              "      border-left-color: var(--fill-color);\n",
              "      border-top-color: var(--fill-color);\n",
              "    }\n",
              "    30% {\n",
              "      border-color: transparent;\n",
              "      border-left-color: var(--fill-color);\n",
              "      border-top-color: var(--fill-color);\n",
              "      border-right-color: var(--fill-color);\n",
              "    }\n",
              "    40% {\n",
              "      border-color: transparent;\n",
              "      border-right-color: var(--fill-color);\n",
              "      border-top-color: var(--fill-color);\n",
              "    }\n",
              "    60% {\n",
              "      border-color: transparent;\n",
              "      border-right-color: var(--fill-color);\n",
              "    }\n",
              "    80% {\n",
              "      border-color: transparent;\n",
              "      border-right-color: var(--fill-color);\n",
              "      border-bottom-color: var(--fill-color);\n",
              "    }\n",
              "    90% {\n",
              "      border-color: transparent;\n",
              "      border-bottom-color: var(--fill-color);\n",
              "    }\n",
              "  }\n",
              "</style>\n",
              "\n",
              "  <script>\n",
              "    async function quickchart(key) {\n",
              "      const quickchartButtonEl =\n",
              "        document.querySelector('#' + key + ' button');\n",
              "      quickchartButtonEl.disabled = true;  // To prevent multiple clicks.\n",
              "      quickchartButtonEl.classList.add('colab-df-spinner');\n",
              "      try {\n",
              "        const charts = await google.colab.kernel.invokeFunction(\n",
              "            'suggestCharts', [key], {});\n",
              "      } catch (error) {\n",
              "        console.error('Error during call to suggestCharts:', error);\n",
              "      }\n",
              "      quickchartButtonEl.classList.remove('colab-df-spinner');\n",
              "      quickchartButtonEl.classList.add('colab-df-quickchart-complete');\n",
              "    }\n",
              "    (() => {\n",
              "      let quickchartButtonEl =\n",
              "        document.querySelector('#df-f39d6230-87b1-4c27-a4aa-82188e534d01 button');\n",
              "      quickchartButtonEl.style.display =\n",
              "        google.colab.kernel.accessAllowed ? 'block' : 'none';\n",
              "    })();\n",
              "  </script>\n",
              "</div>\n",
              "\n",
              "    </div>\n",
              "  </div>\n"
            ],
            "application/vnd.google.colaboratory.intrinsic+json": {
              "type": "dataframe",
              "summary": "{\n  \"name\": \"df\",\n  \"rows\": 8,\n  \"fields\": [\n    {\n      \"column\": \"logP\",\n      \"properties\": {\n        \"dtype\": \"number\",\n        \"std\": 17676.986505176377,\n        \"min\": -6.0328,\n        \"max\": 50000.0,\n        \"num_unique_values\": 8,\n        \"samples\": [\n          2.4587612586,\n          2.61085,\n          50000.0\n        ],\n        \"semantic_type\": \"\",\n        \"description\": \"\"\n      }\n    },\n    {\n      \"column\": \"qed\",\n      \"properties\": {\n        \"dtype\": \"number\",\n        \"std\": 17677.45883980518,\n        \"min\": 0.111811475018,\n        \"max\": 50000.0,\n        \"num_unique_values\": 8,\n        \"samples\": [\n          0.728960176133454,\n          0.7609963407210001,\n          50000.0\n        ],\n        \"semantic_type\": \"\",\n        \"description\": \"\"\n      }\n    },\n    {\n      \"column\": \"SAS\",\n      \"properties\": {\n        \"dtype\": \"number\",\n        \"std\": 17676.609918990325,\n        \"min\": 0.8362262295005346,\n        \"max\": 50000.0,\n        \"num_unique_values\": 8,\n        \"samples\": [\n          3.0478775474993554,\n          2.883534024188963,\n          50000.0\n        ],\n        \"semantic_type\": \"\",\n        \"description\": \"\"\n      }\n    }\n  ]\n}"
            }
          },
          "metadata": {},
          "execution_count": 11
        }
      ]
    },
    {
      "cell_type": "code",
      "source": [
        "# Assuming df is your DataFrame that contains logP, qed, and sas columns\n",
        "plt.figure(figsize=(18, 5))\n",
        "\n",
        "# logP distribution\n",
        "plt.subplot(1, 3, 1)\n",
        "sns.histplot(df['logP'], bins=30, kde=True, color='blue')\n",
        "plt.title('Distribution of logP')\n",
        "plt.xlabel('logP')\n",
        "plt.ylabel('Frequency')\n",
        "\n",
        "# QED distribution\n",
        "plt.subplot(1, 3, 2)\n",
        "sns.histplot(df['qed'], bins=30, kde=True, color='green')\n",
        "plt.title('Distribution of QED')\n",
        "plt.xlabel('QED')\n",
        "plt.ylabel('Frequency')\n",
        "\n",
        "# SAS distribution\n",
        "plt.subplot(1, 3, 3)\n",
        "sns.histplot(df['SAS'], bins=30, kde=True, color='orange')\n",
        "plt.title('Distribution of SAS')\n",
        "plt.xlabel('SAS')\n",
        "plt.ylabel('Frequency')\n",
        "\n",
        "plt.tight_layout()\n",
        "plt.show()\n"
      ],
      "metadata": {
        "colab": {
          "base_uri": "https://localhost:8080/",
          "height": 273
        },
        "id": "5j-v7LFTjBcz",
        "outputId": "0417d9c8-5815-4704-a98e-49ae1ccc7f57"
      },
      "execution_count": 12,
      "outputs": [
        {
          "output_type": "display_data",
          "data": {
            "text/plain": [
              "<Figure size 1800x500 with 3 Axes>"
            ],
            "image/png": "[encoded data removed]"
          },
          "metadata": {}
        }
      ]
    },
    {
      "cell_type": "code",
      "source": [
        "# Check missing values\n",
        "missing_values = df.isnull().sum()\n",
        "print(\"Missing values:\\n\", missing_values[missing_values > 0])\n",
        "\n",
        "# Drop rows with missing values\n",
        "df = df.dropna()\n",
        "\n"
      ],
      "metadata": {
        "colab": {
          "base_uri": "https://localhost:8080/"
        },
        "id": "vMcewG2wjDwF",
        "outputId": "e30a7ca7-be4b-4ef8-a714-88674e7848ea"
      },
      "execution_count": 13,
      "outputs": [
        {
          "output_type": "stream",
          "name": "stdout",
          "text": [
            "Missing values:\n",
            " Series([], dtype: int64)\n"
          ]
        }
      ]
    },
    {
      "cell_type": "code",
      "source": [
        "# Load ChemBERTa tokenizer and model using RobertaTokenizer\n",
        "tokenizer = RobertaTokenizer.from_pretrained('seyonec/ChemBERTa-zinc-base-v1')\n",
        "chemberta_model = RobertaModel.from_pretrained('seyonec/ChemBERTa-zinc-base-v1').to(device)\n"
      ],
      "metadata": {
        "colab": {
          "base_uri": "https://localhost:8080/",
          "height": 372,
          "referenced_widgets": [
            "d13d02cb80194d7786bb794140a37c78",
            "001c74099ee24ac6891c26ccdccf9154",
            "abe7f9e075d74e1f833d9296fcc91c0b",
            "e3c14d8efa7e47769e5c9cea55ecab34",
            "3ab2552fec95445ab6381fc2c4b595d5",
            "8f16ad3b6a6943cdb68bd0e8faf485b5",
            "b7365bc285f241ed985c9db0604a9f04",
            "774c40f0f3d94b3480d3be269c45c962",
            "ed0f1a2524c943079095909ddb45e5f0",
            "d4c7cac2e59b4461899db4a1cf5e97e6",
            "166e7c1da6d84d7a9afa51aa75ad9092",
            "8439aede7fe84830904f6a35b925cde1",
            "9c3d1d68a3bf4cf0809bbe4dc9225ed7",
            "afb2141b1e0540e1b0321e87fd4521fc",
            "f9880d364494431ab8773fe454264446",
            "0931fc2c36534591bd0b4d81a81504d7",
            "21632c1538f3450a9f93d7e5b15e11a8",
            "83ad790dec4c452a96db17c6c10ae40c",
            "5f693f25641a4163a110a60c17d65065",
            "a4eaa7dc8c9c4441a2a2808f0a46e152",
            "47cdd4970c884ad08757811262dbffbd",
            "3f9066272ef44be9965629d0819c12bc",
            "9970fa024c0343d395155da367c0920d",
            "f63e392cf5114a35a578ae72ce245f33",
            "51553f0ebc6648daade7db84b3a243d0",
            "72b243cbe6cd4939b032cd6883ca1b8f",
            "83cf4a3f92484fd3b75dfbce683911ee",
            "9824949af0c24d4ba2dcef2b4cc00d11",
            "ab954f1f274e49cb8f737e815c157131",
            "5bf713ceb8214e98a1e5aabbcef97a35",
            "a605154dbd2548b59eda0fd8e819edbb",
            "3de6d0b12caf49afa2714c5f14ade82b",
            "463cffee280149839446bc65356cd886",
            "9d8fc5253b5f42239724dace1c74d417",
            "d2e44e67380b441fb39261062d4e48ad",
            "a41fa31b591244da8b39b06baba5e2f2",
            "b6b4abe25526416c8b032d3a13ee1aed",
            "31abdc9003ea43129b188bcfd7843a35",
            "512171b005264237b1f4b04a66f29c48",
            "702f62b0c5644c3582b743503330ba4a",
            "fc8ed81779ce4151bc6cdf5c0dba3f44",
            "c2d2c2af048345ffa1d72d2d081d9438",
            "172f199cbfb840c5b2898513103f8fd5",
            "d0f85c7c237643c3889970294358040b",
            "d172f51a6dd94012b07639fbae6a8dba",
            "e68c51b55c50419b8d4d9be8263ab782",
            "3427e76c6f384ee7be169d42ad1cb490",
            "1e098f9746df4de08dd4bf530f330a65",
            "196503fd07844ad794e1e17b4f3cfd3c",
            "5a1bb2393e9b46459b953ba4b02bd0e4",
            "7b7c19a65d904c39a12a4bfe4ed658ae",
            "12ea07bf7c634083843a154fd36560fa",
            "dcab666d7897460fb9d9eb7d922f12f4",
            "590d1550e8f34765adb9824f09ca1c2e",
            "f045901fdac44a90a9ae36fb1ed4bb76",
            "91e65ea41e12401dba0a3b6a25d502b2",
            "e8c6840896954a00bbff86652924d387",
            "4779be23613844fea7793fc6542c35f1",
            "6a9f721eea734a889113ddafa7801ae4",
            "5deaace4bc664c44914907ce7608a489",
            "d03d194ab59c460e982c5d978c1511fe",
            "8ee1a8cd3c514e07883e00d41f590baf",
            "20fd96704a704d1c99c28c41075e4394",
            "c88e35250c764832ba6ff02f80c784ab",
            "7c939a10db634caebdb094ac298b2b5e",
            "438412c7a1bb4353a08801d6111871bf"
          ]
        },
        "id": "ilGyo9y5jJn3",
        "outputId": "ff48662f-0384-4634-958e-9c09aab2a388"
      },
      "execution_count": 14,
      "outputs": [
        {
          "output_type": "stream",
          "name": "stderr",
          "text": [
            "/usr/local/lib/python3.10/dist-packages/huggingface_hub/utils/_token.py:89: UserWarning: \n",
            "The secret `HF_TOKEN` does not exist in your Colab secrets.\n",
            "To authenticate with the Hugging Face Hub, create a token in your settings tab (https://huggingface.co/settings/tokens), set it as secret in your Google Colab and restart your session.\n",
            "You will be able to reuse this secret in all of your notebooks.\n",
            "Please note that authentication is recommended but still optional to access public models or datasets.\n",
            "  warnings.warn(\n"
          ]
        },
        {
          "output_type": "display_data",
          "data": {
            "text/plain": [
              "tokenizer_config.json:   0%|          | 0.00/166 [00:00<?, ?B/s]"
            ],
            "application/vnd.jupyter.widget-view+json": {
              "version_major": 2,
              "version_minor": 0,
              "model_id": "d13d02cb80194d7786bb794140a37c78"
            }
          },
          "metadata": {}
        },
        {
          "output_type": "display_data",
          "data": {
            "text/plain": [
              "vocab.json:   0%|          | 0.00/9.43k [00:00<?, ?B/s]"
            ],
            "application/vnd.jupyter.widget-view+json": {
              "version_major": 2,
              "version_minor": 0,
              "model_id": "8439aede7fe84830904f6a35b925cde1"
            }
          },
          "metadata": {}
        },
        {
          "output_type": "display_data",
          "data": {
            "text/plain": [
              "merges.txt:   0%|          | 0.00/3.21k [00:00<?, ?B/s]"
            ],
            "application/vnd.jupyter.widget-view+json": {
              "version_major": 2,
              "version_minor": 0,
              "model_id": "9970fa024c0343d395155da367c0920d"
            }
          },
          "metadata": {}
        },
        {
          "output_type": "display_data",
          "data": {
            "text/plain": [
              "special_tokens_map.json:   0%|          | 0.00/150 [00:00<?, ?B/s]"
            ],
            "application/vnd.jupyter.widget-view+json": {
              "version_major": 2,
              "version_minor": 0,
              "model_id": "9d8fc5253b5f42239724dace1c74d417"
            }
          },
          "metadata": {}
        },
        {
          "output_type": "display_data",
          "data": {
            "text/plain": [
              "config.json:   0%|          | 0.00/501 [00:00<?, ?B/s]"
            ],
            "application/vnd.jupyter.widget-view+json": {
              "version_major": 2,
              "version_minor": 0,
              "model_id": "d172f51a6dd94012b07639fbae6a8dba"
            }
          },
          "metadata": {}
        },
        {
          "output_type": "stream",
          "name": "stderr",
          "text": [
            "/usr/local/lib/python3.10/dist-packages/transformers/tokenization_utils_base.py:1601: FutureWarning: `clean_up_tokenization_spaces` was not set. It will be set to `True` by default. This behavior will be depracted in transformers v4.45, and will be then set to `False` by default. For more details check this issue: https://github.com/huggingface/transformers/issues/31884\n",
            "  warnings.warn(\n"
          ]
        },
        {
          "output_type": "display_data",
          "data": {
            "text/plain": [
              "pytorch_model.bin:   0%|          | 0.00/179M [00:00<?, ?B/s]"
            ],
            "application/vnd.jupyter.widget-view+json": {
              "version_major": 2,
              "version_minor": 0,
              "model_id": "91e65ea41e12401dba0a3b6a25d502b2"
            }
          },
          "metadata": {}
        }
      ]
    },
    {
      "cell_type": "code",
      "source": [
        "# Function to generate embeddings using ChemBERTa\n",
        "def generate_chemberta_embedding(smiles):\n",
        "    inputs = tokenizer(smiles, return_tensors='pt', padding=True, truncation=True, max_length=128).to(device)\n",
        "    with torch.no_grad():\n",
        "        outputs = chemberta_model(**inputs)\n",
        "    # Return the last hidden state (mean pooling)\n",
        "    return outputs.last_hidden_state.mean(dim=1)\n"
      ],
      "metadata": {
        "id": "i5CyT3kgjcl2"
      },
      "execution_count": 15,
      "outputs": []
    },
    {
      "cell_type": "code",
      "source": [
        "# Create datasets for (logP, QED) and SAS\n",
        "logp_qed_data = []\n",
        "sas_data = []"
      ],
      "metadata": {
        "id": "-2xcME2xjdLU"
      },
      "execution_count": 16,
      "outputs": []
    },
    {
      "cell_type": "code",
      "source": [
        "# Use tqdm to show progress while generating embeddings\n",
        "for index, row in tqdm(df_subset.iterrows(), total=len(df_subset), desc=\"Generating embeddings\"):\n",
        "    smiles = row['smiles']  # Assuming your DataFrame has a 'SMILES' column\n",
        "    logp, qed, sas = row[['logP', 'qed', 'SAS']]\n",
        "\n",
        "    # Generate embeddings for the SMILES representation\n",
        "    embedding = generate_chemberta_embedding(smiles)\n",
        "\n",
        "    # Create a complex graph structure with edges\n",
        "    edge_index = utils.dense_to_sparse(torch.ones((1, 1), device=device))[0]  # Dummy edge for demonstration\n",
        "    logp_qed_graph = Data(x=embedding.unsqueeze(0), edge_index=edge_index,\n",
        "                           y=torch.tensor([logp, qed], dtype=torch.float).view(1, 2).to(device))\n",
        "    sas_graph = Data(x=embedding.unsqueeze(0), edge_index=edge_index,\n",
        "                     y=torch.tensor([sas], dtype=torch.float).view(1, 1).to(device))\n",
        "\n",
        "    logp_qed_data.append(logp_qed_graph)\n",
        "    sas_data.append(sas_graph)"
      ],
      "metadata": {
        "colab": {
          "base_uri": "https://localhost:8080/"
        },
        "id": "owB5blx3jey8",
        "outputId": "45c27d55-5c52-4b70-d4f0-c5088a291976"
      },
      "execution_count": 17,
      "outputs": [
        {
          "output_type": "stream",
          "name": "stderr",
          "text": [
            "Generating embeddings: 100%|██████████| 50000/50000 [07:46<00:00, 107.23it/s]\n"
          ]
        }
      ]
    },
    {
      "cell_type": "code",
      "source": [
        "# Split data into train and test sets\n",
        "logp_qed_train, logp_qed_test = train_test_split(logp_qed_data, test_size=0.2, random_state=42)\n",
        "sas_train, sas_test = train_test_split(sas_data, test_size=0.2, random_state=42)\n"
      ],
      "metadata": {
        "id": "6RC3l6cajgoW"
      },
      "execution_count": 18,
      "outputs": []
    },
    {
      "cell_type": "code",
      "source": [
        "# Create DataLoaders\n",
        "logp_qed_train_loader = DataLoader(logp_qed_train, batch_size=32, shuffle=True)\n",
        "logp_qed_test_loader = DataLoader(logp_qed_test, batch_size=32, shuffle=False)\n",
        "sas_train_loader = DataLoader(sas_train, batch_size=32, shuffle=True)\n",
        "sas_test_loader = DataLoader(sas_test, batch_size=32, shuffle=False)\n"
      ],
      "metadata": {
        "id": "LTVnewielUcn"
      },
      "execution_count": 19,
      "outputs": []
    },
    {
      "cell_type": "code",
      "source": [
        "# Define the MPNN class with dropout\n",
        "class MPNN(MessagePassing):\n",
        "    def __init__(self, hidden_dim, output_dim, dropout_rate=0.2):\n",
        "        super(MPNN, self).__init__(aggr='mean')  # Use mean aggregation\n",
        "        self.fc1 = torch.nn.Linear(768, hidden_dim)\n",
        "        self.dropout = torch.nn.Dropout(dropout_rate)  # Dropout layer\n",
        "        self.fc2 = torch.nn.Linear(hidden_dim, output_dim)\n",
        "\n",
        "    def forward(self, x, edge_index):\n",
        "        # Start message passing\n",
        "        x = F.relu(self.fc1(x))\n",
        "        x = self.dropout(x)  # Apply dropout\n",
        "        return self.fc2(x)\n",
        "\n",
        "    def message(self, x_j):\n",
        "        return x_j  # Identity function for messages\n"
      ],
      "metadata": {
        "id": "Kfg_Z-Z8lWJq"
      },
      "execution_count": 20,
      "outputs": []
    },
    {
      "cell_type": "code",
      "source": [
        "# Learning rate scheduler\n",
        "def get_lr_scheduler(optimizer):\n",
        "    return optim.lr_scheduler.ReduceLROnPlateau(optimizer, factor=0.5, patience=5, verbose=True)\n"
      ],
      "metadata": {
        "id": "OvsKBr5zlXsk"
      },
      "execution_count": 21,
      "outputs": []
    },
    {
      "cell_type": "code",
      "source": [
        "\n",
        "# Initialize and train the model for logP/QED\n",
        "logp_qed_model = MPNN(hidden_dim=128, output_dim=2).to(device)  # Increased hidden dimension\n",
        "logp_qed_optimizer = optim.Adam(logp_qed_model.parameters(), lr=0.001)\n",
        "logp_qed_scheduler = get_lr_scheduler(logp_qed_optimizer)\n"
      ],
      "metadata": {
        "id": "XbepkAYBlZQ9"
      },
      "execution_count": 22,
      "outputs": []
    },
    {
      "cell_type": "code",
      "source": [
        "# Early stopping parameters\n",
        "early_stopping_patience = 10\n",
        "best_loss = float('inf')\n",
        "patience_counter = 0\n"
      ],
      "metadata": {
        "id": "TVSjja3Olal2"
      },
      "execution_count": 23,
      "outputs": []
    },
    {
      "cell_type": "code",
      "source": [
        "# Training loop for logP/QED\n",
        "epochs = 20\n",
        "logp_qed_metrics_list = []\n",
        "\n",
        "for epoch in range(epochs):\n",
        "    logp_qed_model.train()\n",
        "    epoch_loss = 0\n",
        "    with tqdm(total=len(logp_qed_train_loader), desc=f'Training LogP/QED Epoch {epoch+1}/{epochs}') as pbar:\n",
        "        for batch in logp_qed_train_loader:\n",
        "            batch = batch.to(device)\n",
        "            logp_qed_optimizer.zero_grad()\n",
        "            output = logp_qed_model(batch.x, batch.edge_index)\n",
        "            loss = F.mse_loss(output, batch.y)\n",
        "            loss.backward()\n",
        "            logp_qed_optimizer.step()\n",
        "            epoch_loss += loss.item()\n",
        "            pbar.update(1)\n",
        "\n",
        "    # Calculate metrics after each epoch\n",
        "    logp_qed_model.eval()\n",
        "    with torch.no_grad():\n",
        "        y_true = []\n",
        "        y_pred = []\n",
        "        for batch in logp_qed_test_loader:\n",
        "            batch = batch.to(device)\n",
        "            output = logp_qed_model(batch.x, batch.edge_index)\n",
        "            y_true.append(batch.y.cpu().numpy())\n",
        "            y_pred.append(output.cpu().numpy())\n",
        "\n",
        "        y_true = np.concatenate(y_true)\n",
        "        y_pred = np.concatenate(y_pred)\n",
        "\n",
        "        # Print shapes for debugging\n",
        "        print(\"y_true shape:\", y_true.shape)\n",
        "        print(\"y_pred shape:\", y_pred.shape)\n",
        "\n",
        "        # Reshape y_pred to match y_true\n",
        "        if y_pred.ndim == 3 and y_pred.shape[1] == 1:\n",
        "            y_pred = y_pred.reshape(y_pred.shape[0], -1)\n",
        "\n",
        "        # Print the reshaped dimensions\n",
        "        print(\"Reshaped y_pred shape:\", y_pred.shape)\n",
        "\n",
        "        # Calculate metrics\n",
        "        rmse = mean_squared_error(y_true, y_pred, squared=False)\n",
        "        mae = mean_absolute_error(y_true, y_pred)\n",
        "        r2 = r2_score(y_true, y_pred)\n",
        "        mape = np.mean(np.abs((y_true - y_pred) / y_true)) * 100  # MAPE\n",
        "        mse = mean_squared_error(y_true, y_pred)  # MSE\n",
        "\n",
        "        # Display metrics\n",
        "        print(f\"RMSE: {rmse}, MAE: {mae}, R2: {r2}, MAPE: {mape}, MSE: {mse}\")\n",
        "\n",
        "    logp_qed_metrics_list.append({'rmse': rmse, 'mae': mae, 'r2': r2, 'mape': mape, 'mse': mse})\n",
        "    print(f'Epoch {epoch+1}/{epochs}, Loss: {epoch_loss/len(logp_qed_train_loader):.4f}, RMSE: {rmse:.4f}, MAE: {mae:.4f}, R2: {r2:.4f}, MAPE: {mape:.4f}, MSE: {mse:.4f}')\n",
        "\n",
        "    # Scheduler step\n",
        "    logp_qed_scheduler.step(rmse)\n",
        "\n",
        "    # Early stopping\n",
        "    if rmse < best_loss:\n",
        "        best_loss = rmse\n",
        "        patience_counter = 0\n",
        "    else:\n",
        "        patience_counter += 1\n",
        "        if patience_counter >= early_stopping_patience:\n",
        "            print(\"Early stopping triggered.\")\n",
        "            break\n"
      ],
      "metadata": {
        "colab": {
          "base_uri": "https://localhost:8080/"
        },
        "id": "nhGAJ5NvmHjm",
        "outputId": "788cf55c-a66a-4dd1-f71a-ba1d0f44c8e6"
      },
      "execution_count": 24,
      "outputs": [
        {
          "output_type": "stream",
          "name": "stderr",
          "text": [
            "\rTraining LogP/QED Epoch 1/20:   0%|          | 0/1250 [00:00<?, ?it/s]<ipython-input-24-90817d2976f9>:13: UserWarning: Using a target size (torch.Size([32, 2])) that is different to the input size (torch.Size([32, 1, 2])). This will likely lead to incorrect results due to broadcasting. Please ensure they have the same size.\n",
            "  loss = F.mse_loss(output, batch.y)\n",
            "Training LogP/QED Epoch 1/20: 100%|██████████| 1250/1250 [00:10<00:00, 121.00it/s]\n",
            "/usr/local/lib/python3.10/dist-packages/sklearn/metrics/_regression.py:492: FutureWarning: 'squared' is deprecated in version 1.4 and will be removed in 1.6. To calculate the root mean squared error, use the function'root_mean_squared_error'.\n",
            "  warnings.warn(\n"
          ]
        },
        {
          "output_type": "stream",
          "name": "stdout",
          "text": [
            "y_true shape: (10000, 2)\n",
            "y_pred shape: (10000, 1, 2)\n",
            "Reshaped y_pred shape: (10000, 2)\n",
            "RMSE: 0.7920759916305542, MAE: 0.6316086053848267, R2: -0.41818851232528687, MAPE: 117.50949621200562, MSE: 0.9893001317977905\n",
            "Epoch 1/20, Loss: 1.0928, RMSE: 0.7921, MAE: 0.6316, R2: -0.4182, MAPE: 117.5095, MSE: 0.9893\n"
          ]
        },
        {
          "output_type": "stream",
          "name": "stderr",
          "text": [
            "Training LogP/QED Epoch 2/20:   0%|          | 0/1250 [00:00<?, ?it/s]<ipython-input-24-90817d2976f9>:13: UserWarning: Using a target size (torch.Size([32, 2])) that is different to the input size (torch.Size([32, 1, 2])). This will likely lead to incorrect results due to broadcasting. Please ensure they have the same size.\n",
            "  loss = F.mse_loss(output, batch.y)\n",
            "Training LogP/QED Epoch 2/20: 100%|██████████| 1250/1250 [00:09<00:00, 128.10it/s]\n",
            "/usr/local/lib/python3.10/dist-packages/sklearn/metrics/_regression.py:492: FutureWarning: 'squared' is deprecated in version 1.4 and will be removed in 1.6. To calculate the root mean squared error, use the function'root_mean_squared_error'.\n",
            "  warnings.warn(\n"
          ]
        },
        {
          "output_type": "stream",
          "name": "stdout",
          "text": [
            "y_true shape: (10000, 2)\n",
            "y_pred shape: (10000, 1, 2)\n",
            "Reshaped y_pred shape: (10000, 2)\n",
            "RMSE: 0.7837190628051758, MAE: 0.608920693397522, R2: -0.02209395170211792, MAPE: 125.5272626876831, MSE: 1.026746392250061\n",
            "Epoch 2/20, Loss: 1.0749, RMSE: 0.7837, MAE: 0.6089, R2: -0.0221, MAPE: 125.5273, MSE: 1.0267\n"
          ]
        },
        {
          "output_type": "stream",
          "name": "stderr",
          "text": [
            "Training LogP/QED Epoch 3/20:   0%|          | 0/1250 [00:00<?, ?it/s]<ipython-input-24-90817d2976f9>:13: UserWarning: Using a target size (torch.Size([32, 2])) that is different to the input size (torch.Size([32, 1, 2])). This will likely lead to incorrect results due to broadcasting. Please ensure they have the same size.\n",
            "  loss = F.mse_loss(output, batch.y)\n",
            "Training LogP/QED Epoch 3/20: 100%|██████████| 1250/1250 [00:09<00:00, 132.13it/s]\n",
            "/usr/local/lib/python3.10/dist-packages/sklearn/metrics/_regression.py:492: FutureWarning: 'squared' is deprecated in version 1.4 and will be removed in 1.6. To calculate the root mean squared error, use the function'root_mean_squared_error'.\n",
            "  warnings.warn(\n"
          ]
        },
        {
          "output_type": "stream",
          "name": "stdout",
          "text": [
            "y_true shape: (10000, 2)\n",
            "y_pred shape: (10000, 1, 2)\n",
            "Reshaped y_pred shape: (10000, 2)\n",
            "RMSE: 0.7673067450523376, MAE: 0.606688380241394, R2: -0.0024404823780059814, MAPE: 111.78597211837769, MSE: 0.9798247814178467\n",
            "Epoch 3/20, Loss: 1.0730, RMSE: 0.7673, MAE: 0.6067, R2: -0.0024, MAPE: 111.7860, MSE: 0.9798\n"
          ]
        },
        {
          "output_type": "stream",
          "name": "stderr",
          "text": [
            "Training LogP/QED Epoch 4/20:   0%|          | 0/1250 [00:00<?, ?it/s]<ipython-input-24-90817d2976f9>:13: UserWarning: Using a target size (torch.Size([32, 2])) that is different to the input size (torch.Size([32, 1, 2])). This will likely lead to incorrect results due to broadcasting. Please ensure they have the same size.\n",
            "  loss = F.mse_loss(output, batch.y)\n",
            "Training LogP/QED Epoch 4/20: 100%|██████████| 1250/1250 [00:09<00:00, 135.27it/s]\n",
            "/usr/local/lib/python3.10/dist-packages/sklearn/metrics/_regression.py:492: FutureWarning: 'squared' is deprecated in version 1.4 and will be removed in 1.6. To calculate the root mean squared error, use the function'root_mean_squared_error'.\n",
            "  warnings.warn(\n"
          ]
        },
        {
          "output_type": "stream",
          "name": "stdout",
          "text": [
            "y_true shape: (10000, 2)\n",
            "y_pred shape: (10000, 1, 2)\n",
            "Reshaped y_pred shape: (10000, 2)\n",
            "RMSE: 0.7672662138938904, MAE: 0.6056585907936096, R2: 0.0016356110572814941, MAPE: 115.94511270523071, MSE: 0.9804746508598328\n",
            "Epoch 4/20, Loss: 1.0742, RMSE: 0.7673, MAE: 0.6057, R2: 0.0016, MAPE: 115.9451, MSE: 0.9805\n"
          ]
        },
        {
          "output_type": "stream",
          "name": "stderr",
          "text": [
            "Training LogP/QED Epoch 5/20:   0%|          | 0/1250 [00:00<?, ?it/s]<ipython-input-24-90817d2976f9>:13: UserWarning: Using a target size (torch.Size([32, 2])) that is different to the input size (torch.Size([32, 1, 2])). This will likely lead to incorrect results due to broadcasting. Please ensure they have the same size.\n",
            "  loss = F.mse_loss(output, batch.y)\n",
            "Training LogP/QED Epoch 5/20: 100%|██████████| 1250/1250 [00:08<00:00, 141.62it/s]\n",
            "/usr/local/lib/python3.10/dist-packages/sklearn/metrics/_regression.py:492: FutureWarning: 'squared' is deprecated in version 1.4 and will be removed in 1.6. To calculate the root mean squared error, use the function'root_mean_squared_error'.\n",
            "  warnings.warn(\n"
          ]
        },
        {
          "output_type": "stream",
          "name": "stdout",
          "text": [
            "y_true shape: (10000, 2)\n",
            "y_pred shape: (10000, 1, 2)\n",
            "Reshaped y_pred shape: (10000, 2)\n",
            "RMSE: 0.7741823792457581, MAE: 0.6240585446357727, R2: -0.004879683256149292, MAPE: 103.6299467086792, MSE: 1.000449538230896\n",
            "Epoch 5/20, Loss: 1.0689, RMSE: 0.7742, MAE: 0.6241, R2: -0.0049, MAPE: 103.6299, MSE: 1.0004\n"
          ]
        },
        {
          "output_type": "stream",
          "name": "stderr",
          "text": [
            "Training LogP/QED Epoch 6/20:   0%|          | 0/1250 [00:00<?, ?it/s]<ipython-input-24-90817d2976f9>:13: UserWarning: Using a target size (torch.Size([32, 2])) that is different to the input size (torch.Size([32, 1, 2])). This will likely lead to incorrect results due to broadcasting. Please ensure they have the same size.\n",
            "  loss = F.mse_loss(output, batch.y)\n",
            "Training LogP/QED Epoch 6/20: 100%|██████████| 1250/1250 [00:08<00:00, 146.47it/s]\n",
            "/usr/local/lib/python3.10/dist-packages/sklearn/metrics/_regression.py:492: FutureWarning: 'squared' is deprecated in version 1.4 and will be removed in 1.6. To calculate the root mean squared error, use the function'root_mean_squared_error'.\n",
            "  warnings.warn(\n"
          ]
        },
        {
          "output_type": "stream",
          "name": "stdout",
          "text": [
            "y_true shape: (10000, 2)\n",
            "y_pred shape: (10000, 1, 2)\n",
            "Reshaped y_pred shape: (10000, 2)\n",
            "RMSE: 0.7673647999763489, MAE: 0.6102426052093506, R2: -0.013423770666122437, MAPE: 112.64138221740723, MSE: 0.9779388904571533\n",
            "Epoch 6/20, Loss: 1.0664, RMSE: 0.7674, MAE: 0.6102, R2: -0.0134, MAPE: 112.6414, MSE: 0.9779\n"
          ]
        },
        {
          "output_type": "stream",
          "name": "stderr",
          "text": [
            "Training LogP/QED Epoch 7/20:   0%|          | 0/1250 [00:00<?, ?it/s]<ipython-input-24-90817d2976f9>:13: UserWarning: Using a target size (torch.Size([32, 2])) that is different to the input size (torch.Size([32, 1, 2])). This will likely lead to incorrect results due to broadcasting. Please ensure they have the same size.\n",
            "  loss = F.mse_loss(output, batch.y)\n",
            "Training LogP/QED Epoch 7/20: 100%|██████████| 1250/1250 [00:09<00:00, 134.51it/s]\n",
            "/usr/local/lib/python3.10/dist-packages/sklearn/metrics/_regression.py:492: FutureWarning: 'squared' is deprecated in version 1.4 and will be removed in 1.6. To calculate the root mean squared error, use the function'root_mean_squared_error'.\n",
            "  warnings.warn(\n"
          ]
        },
        {
          "output_type": "stream",
          "name": "stdout",
          "text": [
            "y_true shape: (10000, 2)\n",
            "y_pred shape: (10000, 1, 2)\n",
            "Reshaped y_pred shape: (10000, 2)\n",
            "RMSE: 0.7741072773933411, MAE: 0.608363926410675, R2: -0.059580206871032715, MAPE: 114.2706036567688, MSE: 0.9900309443473816\n",
            "Epoch 7/20, Loss: 1.0674, RMSE: 0.7741, MAE: 0.6084, R2: -0.0596, MAPE: 114.2706, MSE: 0.9900\n"
          ]
        },
        {
          "output_type": "stream",
          "name": "stderr",
          "text": [
            "Training LogP/QED Epoch 8/20:   0%|          | 0/1250 [00:00<?, ?it/s]<ipython-input-24-90817d2976f9>:13: UserWarning: Using a target size (torch.Size([32, 2])) that is different to the input size (torch.Size([32, 1, 2])). This will likely lead to incorrect results due to broadcasting. Please ensure they have the same size.\n",
            "  loss = F.mse_loss(output, batch.y)\n",
            "Training LogP/QED Epoch 8/20: 100%|██████████| 1250/1250 [00:09<00:00, 129.63it/s]\n",
            "/usr/local/lib/python3.10/dist-packages/sklearn/metrics/_regression.py:492: FutureWarning: 'squared' is deprecated in version 1.4 and will be removed in 1.6. To calculate the root mean squared error, use the function'root_mean_squared_error'.\n",
            "  warnings.warn(\n"
          ]
        },
        {
          "output_type": "stream",
          "name": "stdout",
          "text": [
            "y_true shape: (10000, 2)\n",
            "y_pred shape: (10000, 1, 2)\n",
            "Reshaped y_pred shape: (10000, 2)\n",
            "RMSE: 0.7599043846130371, MAE: 0.6062100529670715, R2: 0.0026528239250183105, MAPE: 109.7796082496643, MSE: 0.95835942029953\n",
            "Epoch 8/20, Loss: 1.0618, RMSE: 0.7599, MAE: 0.6062, R2: 0.0027, MAPE: 109.7796, MSE: 0.9584\n"
          ]
        },
        {
          "output_type": "stream",
          "name": "stderr",
          "text": [
            "Training LogP/QED Epoch 9/20:   0%|          | 0/1250 [00:00<?, ?it/s]<ipython-input-24-90817d2976f9>:13: UserWarning: Using a target size (torch.Size([32, 2])) that is different to the input size (torch.Size([32, 1, 2])). This will likely lead to incorrect results due to broadcasting. Please ensure they have the same size.\n",
            "  loss = F.mse_loss(output, batch.y)\n",
            "Training LogP/QED Epoch 9/20: 100%|██████████| 1250/1250 [00:09<00:00, 135.11it/s]\n",
            "/usr/local/lib/python3.10/dist-packages/sklearn/metrics/_regression.py:492: FutureWarning: 'squared' is deprecated in version 1.4 and will be removed in 1.6. To calculate the root mean squared error, use the function'root_mean_squared_error'.\n",
            "  warnings.warn(\n"
          ]
        },
        {
          "output_type": "stream",
          "name": "stdout",
          "text": [
            "y_true shape: (10000, 2)\n",
            "y_pred shape: (10000, 1, 2)\n",
            "Reshaped y_pred shape: (10000, 2)\n",
            "RMSE: 0.7642123699188232, MAE: 0.6032307147979736, R2: 0.017117679119110107, MAPE: 113.42076063156128, MSE: 0.9741301536560059\n",
            "Epoch 9/20, Loss: 1.0629, RMSE: 0.7642, MAE: 0.6032, R2: 0.0171, MAPE: 113.4208, MSE: 0.9741\n"
          ]
        },
        {
          "output_type": "stream",
          "name": "stderr",
          "text": [
            "Training LogP/QED Epoch 10/20:   0%|          | 0/1250 [00:00<?, ?it/s]<ipython-input-24-90817d2976f9>:13: UserWarning: Using a target size (torch.Size([32, 2])) that is different to the input size (torch.Size([32, 1, 2])). This will likely lead to incorrect results due to broadcasting. Please ensure they have the same size.\n",
            "  loss = F.mse_loss(output, batch.y)\n",
            "Training LogP/QED Epoch 10/20: 100%|██████████| 1250/1250 [00:09<00:00, 138.82it/s]\n",
            "/usr/local/lib/python3.10/dist-packages/sklearn/metrics/_regression.py:492: FutureWarning: 'squared' is deprecated in version 1.4 and will be removed in 1.6. To calculate the root mean squared error, use the function'root_mean_squared_error'.\n",
            "  warnings.warn(\n"
          ]
        },
        {
          "output_type": "stream",
          "name": "stdout",
          "text": [
            "y_true shape: (10000, 2)\n",
            "y_pred shape: (10000, 1, 2)\n",
            "Reshaped y_pred shape: (10000, 2)\n",
            "RMSE: 0.7608487606048584, MAE: 0.600828230381012, R2: 0.018213868141174316, MAPE: 112.57357597351074, MSE: 0.9641317129135132\n",
            "Epoch 10/20, Loss: 1.0589, RMSE: 0.7608, MAE: 0.6008, R2: 0.0182, MAPE: 112.5736, MSE: 0.9641\n"
          ]
        },
        {
          "output_type": "stream",
          "name": "stderr",
          "text": [
            "Training LogP/QED Epoch 11/20:   0%|          | 0/1250 [00:00<?, ?it/s]<ipython-input-24-90817d2976f9>:13: UserWarning: Using a target size (torch.Size([32, 2])) that is different to the input size (torch.Size([32, 1, 2])). This will likely lead to incorrect results due to broadcasting. Please ensure they have the same size.\n",
            "  loss = F.mse_loss(output, batch.y)\n",
            "Training LogP/QED Epoch 11/20: 100%|██████████| 1250/1250 [00:08<00:00, 146.49it/s]\n",
            "/usr/local/lib/python3.10/dist-packages/sklearn/metrics/_regression.py:492: FutureWarning: 'squared' is deprecated in version 1.4 and will be removed in 1.6. To calculate the root mean squared error, use the function'root_mean_squared_error'.\n",
            "  warnings.warn(\n"
          ]
        },
        {
          "output_type": "stream",
          "name": "stdout",
          "text": [
            "y_true shape: (10000, 2)\n",
            "y_pred shape: (10000, 1, 2)\n",
            "Reshaped y_pred shape: (10000, 2)\n",
            "RMSE: 0.769078254699707, MAE: 0.601665735244751, R2: 0.005839139223098755, MAPE: 120.03943920135498, MSE: 0.9868207573890686\n",
            "Epoch 11/20, Loss: 1.0604, RMSE: 0.7691, MAE: 0.6017, R2: 0.0058, MAPE: 120.0394, MSE: 0.9868\n"
          ]
        },
        {
          "output_type": "stream",
          "name": "stderr",
          "text": [
            "Training LogP/QED Epoch 12/20:   0%|          | 0/1250 [00:00<?, ?it/s]<ipython-input-24-90817d2976f9>:13: UserWarning: Using a target size (torch.Size([32, 2])) that is different to the input size (torch.Size([32, 1, 2])). This will likely lead to incorrect results due to broadcasting. Please ensure they have the same size.\n",
            "  loss = F.mse_loss(output, batch.y)\n",
            "Training LogP/QED Epoch 12/20: 100%|██████████| 1250/1250 [00:07<00:00, 157.19it/s]\n",
            "/usr/local/lib/python3.10/dist-packages/sklearn/metrics/_regression.py:492: FutureWarning: 'squared' is deprecated in version 1.4 and will be removed in 1.6. To calculate the root mean squared error, use the function'root_mean_squared_error'.\n",
            "  warnings.warn(\n"
          ]
        },
        {
          "output_type": "stream",
          "name": "stdout",
          "text": [
            "y_true shape: (10000, 2)\n",
            "y_pred shape: (10000, 1, 2)\n",
            "Reshaped y_pred shape: (10000, 2)\n",
            "RMSE: 0.7641597986221313, MAE: 0.6059573888778687, R2: 0.018237531185150146, MAPE: 111.55017614364624, MSE: 0.9741857647895813\n",
            "Epoch 12/20, Loss: 1.0597, RMSE: 0.7642, MAE: 0.6060, R2: 0.0182, MAPE: 111.5502, MSE: 0.9742\n"
          ]
        },
        {
          "output_type": "stream",
          "name": "stderr",
          "text": [
            "Training LogP/QED Epoch 13/20:   0%|          | 0/1250 [00:00<?, ?it/s]<ipython-input-24-90817d2976f9>:13: UserWarning: Using a target size (torch.Size([32, 2])) that is different to the input size (torch.Size([32, 1, 2])). This will likely lead to incorrect results due to broadcasting. Please ensure they have the same size.\n",
            "  loss = F.mse_loss(output, batch.y)\n",
            "Training LogP/QED Epoch 13/20: 100%|██████████| 1250/1250 [00:06<00:00, 198.58it/s]\n",
            "/usr/local/lib/python3.10/dist-packages/sklearn/metrics/_regression.py:492: FutureWarning: 'squared' is deprecated in version 1.4 and will be removed in 1.6. To calculate the root mean squared error, use the function'root_mean_squared_error'.\n",
            "  warnings.warn(\n"
          ]
        },
        {
          "output_type": "stream",
          "name": "stdout",
          "text": [
            "y_true shape: (10000, 2)\n",
            "y_pred shape: (10000, 1, 2)\n",
            "Reshaped y_pred shape: (10000, 2)\n",
            "RMSE: 0.7690554261207581, MAE: 0.5999265909194946, R2: 0.011249154806137085, MAPE: 120.48525810241699, MSE: 0.9877977967262268\n",
            "Epoch 13/20, Loss: 1.0565, RMSE: 0.7691, MAE: 0.5999, R2: 0.0112, MAPE: 120.4853, MSE: 0.9878\n"
          ]
        },
        {
          "output_type": "stream",
          "name": "stderr",
          "text": [
            "Training LogP/QED Epoch 14/20:   0%|          | 0/1250 [00:00<?, ?it/s]<ipython-input-24-90817d2976f9>:13: UserWarning: Using a target size (torch.Size([32, 2])) that is different to the input size (torch.Size([32, 1, 2])). This will likely lead to incorrect results due to broadcasting. Please ensure they have the same size.\n",
            "  loss = F.mse_loss(output, batch.y)\n",
            "Training LogP/QED Epoch 14/20: 100%|██████████| 1250/1250 [00:05<00:00, 222.00it/s]\n",
            "/usr/local/lib/python3.10/dist-packages/sklearn/metrics/_regression.py:492: FutureWarning: 'squared' is deprecated in version 1.4 and will be removed in 1.6. To calculate the root mean squared error, use the function'root_mean_squared_error'.\n",
            "  warnings.warn(\n"
          ]
        },
        {
          "output_type": "stream",
          "name": "stdout",
          "text": [
            "y_true shape: (10000, 2)\n",
            "y_pred shape: (10000, 1, 2)\n",
            "Reshaped y_pred shape: (10000, 2)\n",
            "RMSE: 0.7719047665596008, MAE: 0.6185654401779175, R2: 0.004166513681411743, MAPE: 105.78429698944092, MSE: 0.9951810836791992\n",
            "Epoch 14/20, Loss: 1.0549, RMSE: 0.7719, MAE: 0.6186, R2: 0.0042, MAPE: 105.7843, MSE: 0.9952\n"
          ]
        },
        {
          "output_type": "stream",
          "name": "stderr",
          "text": [
            "Training LogP/QED Epoch 15/20:   0%|          | 0/1250 [00:00<?, ?it/s]<ipython-input-24-90817d2976f9>:13: UserWarning: Using a target size (torch.Size([32, 2])) that is different to the input size (torch.Size([32, 1, 2])). This will likely lead to incorrect results due to broadcasting. Please ensure they have the same size.\n",
            "  loss = F.mse_loss(output, batch.y)\n",
            "Training LogP/QED Epoch 15/20: 100%|██████████| 1250/1250 [00:06<00:00, 184.47it/s]\n",
            "/usr/local/lib/python3.10/dist-packages/sklearn/metrics/_regression.py:492: FutureWarning: 'squared' is deprecated in version 1.4 and will be removed in 1.6. To calculate the root mean squared error, use the function'root_mean_squared_error'.\n",
            "  warnings.warn(\n"
          ]
        },
        {
          "output_type": "stream",
          "name": "stdout",
          "text": [
            "y_true shape: (10000, 2)\n",
            "y_pred shape: (10000, 1, 2)\n",
            "Reshaped y_pred shape: (10000, 2)\n",
            "RMSE: 0.7661523222923279, MAE: 0.5996904373168945, R2: 0.01100844144821167, MAPE: 117.36091375350952, MSE: 0.9788682460784912\n",
            "Epoch 15/20, Loss: 1.0495, RMSE: 0.7662, MAE: 0.5997, R2: 0.0110, MAPE: 117.3609, MSE: 0.9789\n"
          ]
        },
        {
          "output_type": "stream",
          "name": "stderr",
          "text": [
            "Training LogP/QED Epoch 16/20:   0%|          | 0/1250 [00:00<?, ?it/s]<ipython-input-24-90817d2976f9>:13: UserWarning: Using a target size (torch.Size([32, 2])) that is different to the input size (torch.Size([32, 1, 2])). This will likely lead to incorrect results due to broadcasting. Please ensure they have the same size.\n",
            "  loss = F.mse_loss(output, batch.y)\n",
            "Training LogP/QED Epoch 16/20: 100%|██████████| 1250/1250 [00:07<00:00, 163.39it/s]\n",
            "/usr/local/lib/python3.10/dist-packages/sklearn/metrics/_regression.py:492: FutureWarning: 'squared' is deprecated in version 1.4 and will be removed in 1.6. To calculate the root mean squared error, use the function'root_mean_squared_error'.\n",
            "  warnings.warn(\n"
          ]
        },
        {
          "output_type": "stream",
          "name": "stdout",
          "text": [
            "y_true shape: (10000, 2)\n",
            "y_pred shape: (10000, 1, 2)\n",
            "Reshaped y_pred shape: (10000, 2)\n",
            "RMSE: 0.764000415802002, MAE: 0.6088569760322571, R2: 0.016889959573745728, MAPE: 109.18009281158447, MSE: 0.9734413027763367\n",
            "Epoch 16/20, Loss: 1.0494, RMSE: 0.7640, MAE: 0.6089, R2: 0.0169, MAPE: 109.1801, MSE: 0.9734\n"
          ]
        },
        {
          "output_type": "stream",
          "name": "stderr",
          "text": [
            "Training LogP/QED Epoch 17/20:   0%|          | 0/1250 [00:00<?, ?it/s]<ipython-input-24-90817d2976f9>:13: UserWarning: Using a target size (torch.Size([32, 2])) that is different to the input size (torch.Size([32, 1, 2])). This will likely lead to incorrect results due to broadcasting. Please ensure they have the same size.\n",
            "  loss = F.mse_loss(output, batch.y)\n",
            "Training LogP/QED Epoch 17/20: 100%|██████████| 1250/1250 [00:05<00:00, 217.16it/s]\n",
            "/usr/local/lib/python3.10/dist-packages/sklearn/metrics/_regression.py:492: FutureWarning: 'squared' is deprecated in version 1.4 and will be removed in 1.6. To calculate the root mean squared error, use the function'root_mean_squared_error'.\n",
            "  warnings.warn(\n"
          ]
        },
        {
          "output_type": "stream",
          "name": "stdout",
          "text": [
            "y_true shape: (10000, 2)\n",
            "y_pred shape: (10000, 1, 2)\n",
            "Reshaped y_pred shape: (10000, 2)\n",
            "RMSE: 0.7677992582321167, MAE: 0.5995091199874878, R2: -0.011721372604370117, MAPE: 117.50150918960571, MSE: 0.9795787334442139\n",
            "Epoch 17/20, Loss: 1.0504, RMSE: 0.7678, MAE: 0.5995, R2: -0.0117, MAPE: 117.5015, MSE: 0.9796\n"
          ]
        },
        {
          "output_type": "stream",
          "name": "stderr",
          "text": [
            "Training LogP/QED Epoch 18/20:   0%|          | 0/1250 [00:00<?, ?it/s]<ipython-input-24-90817d2976f9>:13: UserWarning: Using a target size (torch.Size([32, 2])) that is different to the input size (torch.Size([32, 1, 2])). This will likely lead to incorrect results due to broadcasting. Please ensure they have the same size.\n",
            "  loss = F.mse_loss(output, batch.y)\n",
            "Training LogP/QED Epoch 18/20: 100%|██████████| 1250/1250 [00:09<00:00, 130.72it/s]\n"
          ]
        },
        {
          "output_type": "stream",
          "name": "stdout",
          "text": [
            "y_true shape: (10000, 2)\n",
            "y_pred shape: (10000, 1, 2)\n",
            "Reshaped y_pred shape: (10000, 2)\n",
            "RMSE: 0.7621473073959351, MAE: 0.605488121509552, R2: 0.021247923374176025, MAPE: 110.69583892822266, MSE: 0.9686469435691833\n",
            "Epoch 18/20, Loss: 1.0494, RMSE: 0.7621, MAE: 0.6055, R2: 0.0212, MAPE: 110.6958, MSE: 0.9686\n",
            "Early stopping triggered.\n"
          ]
        },
        {
          "output_type": "stream",
          "name": "stderr",
          "text": [
            "/usr/local/lib/python3.10/dist-packages/sklearn/metrics/_regression.py:492: FutureWarning: 'squared' is deprecated in version 1.4 and will be removed in 1.6. To calculate the root mean squared error, use the function'root_mean_squared_error'.\n",
            "  warnings.warn(\n"
          ]
        }
      ]
    },
    {
      "cell_type": "code",
      "source": [
        "# Initialize and train the model for SAS\n",
        "sas_model = MPNN(hidden_dim=128, output_dim=1).to(device)  # Increased hidden dimension\n",
        "sas_optimizer = optim.Adam(sas_model.parameters(), lr=0.001)\n",
        "sas_scheduler = get_lr_scheduler(sas_optimizer)\n"
      ],
      "metadata": {
        "id": "aByNzMimnDz7"
      },
      "execution_count": 26,
      "outputs": []
    },
    {
      "cell_type": "code",
      "source": [
        "# Early stopping parameters for SAS\n",
        "early_stopping_patience = 10\n",
        "best_loss = float('inf')\n",
        "patience_counter = 0\n"
      ],
      "metadata": {
        "id": "WLuHWFOqnTtC"
      },
      "execution_count": 27,
      "outputs": []
    },
    {
      "cell_type": "code",
      "source": [
        "# SAS model training loop with MAPE, MSE, and MAE\n",
        "sas_metrics_list = []\n",
        "\n",
        "for epoch in range(epochs):\n",
        "    sas_model.train()\n",
        "    epoch_loss = 0\n",
        "    with tqdm(total=len(sas_train_loader), desc=f'Training SAS Epoch {epoch+1}/{epochs}') as pbar:\n",
        "        for batch in sas_train_loader:\n",
        "            batch = batch.to(device)\n",
        "            sas_optimizer.zero_grad()\n",
        "            output = sas_model(batch.x, batch.edge_index)\n",
        "            loss = F.mse_loss(output, batch.y)\n",
        "            loss.backward()\n",
        "            sas_optimizer.step()\n",
        "            epoch_loss += loss.item()\n",
        "            pbar.update(1)\n",
        "\n",
        "    # Calculate metrics after each epoch\n",
        "    sas_model.eval()\n",
        "    with torch.no_grad():\n",
        "        y_true = []\n",
        "        y_pred = []\n",
        "        for batch in sas_test_loader:\n",
        "            batch = batch.to(device)\n",
        "            output = sas_model(batch.x, batch.edge_index)\n",
        "            y_true.append(batch.y.cpu().numpy())\n",
        "            y_pred.append(output.cpu().numpy())\n",
        "\n",
        "        y_true = np.concatenate(y_true)\n",
        "        y_pred = np.concatenate(y_pred)\n",
        "\n",
        "        # Print shapes for debugging\n",
        "        print(\"y_true shape:\", y_true.shape)\n",
        "        print(\"y_pred shape:\", y_pred.shape)\n",
        "\n",
        "        # Reshape y_pred to match y_true\n",
        "        if y_pred.ndim == 3 and y_pred.shape[1] == 1:\n",
        "            y_pred = y_pred.reshape(y_pred.shape[0], -1)\n",
        "\n",
        "        # Print the reshaped dimensions\n",
        "        print(\"Reshaped y_pred shape:\", y_pred.shape)\n",
        "\n",
        "        # Calculate metrics\n",
        "        rmse = mean_squared_error(y_true, y_pred, squared=False)\n",
        "        mae = mean_absolute_error(y_true, y_pred)\n",
        "        r2 = r2_score(y_true, y_pred)\n",
        "        mape = np.mean(np.abs((y_true - y_pred) / y_true)) * 100  # MAPE\n",
        "        mse = mean_squared_error(y_true, y_pred)  # MSE\n",
        "\n",
        "        # Display metrics\n",
        "        print(f\"RMSE: {rmse}, MAE: {mae}, R2: {r2}, MAPE: {mape}, MSE: {mse}\")\n",
        "\n",
        "    sas_metrics_list.append({'rmse': rmse, 'mae': mae, 'r2': r2, 'mape': mape, 'mse': mse})\n",
        "    print(f'Epoch {epoch+1}/{epochs}, Loss: {epoch_loss/len(sas_train_loader):.4f}, RMSE: {rmse:.4f}, MAE: {mae:.4f}, R2: {r2:.4f}, MAPE: {mape:.4f}, MSE: {mse:.4f}')\n",
        "\n",
        "    # Scheduler step\n",
        "    sas_scheduler.step(rmse)\n",
        "\n",
        "    # Early stopping\n",
        "    if rmse < best_loss:\n",
        "        best_loss = rmse\n",
        "        patience_counter = 0\n",
        "    else:\n",
        "        patience_counter += 1\n",
        "        if patience_counter >= early_stopping_patience:\n",
        "            print(\"Early stopping triggered.\")\n",
        "            break\n"
      ],
      "metadata": {
        "colab": {
          "base_uri": "https://localhost:8080/"
        },
        "id": "4qR2iujqnXo5",
        "outputId": "a33c9325-76a0-4c8c-9623-8a5f65e250e9"
      },
      "execution_count": 28,
      "outputs": [
        {
          "output_type": "stream",
          "name": "stderr",
          "text": [
            "Training SAS Epoch 1/20:   0%|          | 0/1250 [00:00<?, ?it/s]<ipython-input-28-a3e772818bd3>:12: UserWarning: Using a target size (torch.Size([32, 1])) that is different to the input size (torch.Size([32, 1, 1])). This will likely lead to incorrect results due to broadcasting. Please ensure they have the same size.\n",
            "  loss = F.mse_loss(output, batch.y)\n",
            "Training SAS Epoch 1/20: 100%|██████████| 1250/1250 [00:13<00:00, 92.93it/s] \n",
            "/usr/local/lib/python3.10/dist-packages/sklearn/metrics/_regression.py:492: FutureWarning: 'squared' is deprecated in version 1.4 and will be removed in 1.6. To calculate the root mean squared error, use the function'root_mean_squared_error'.\n",
            "  warnings.warn(\n"
          ]
        },
        {
          "output_type": "stream",
          "name": "stdout",
          "text": [
            "y_true shape: (10000, 1)\n",
            "y_pred shape: (10000, 1, 1)\n",
            "Reshaped y_pred shape: (10000, 1)\n",
            "RMSE: 0.8796179294586182, MAE: 0.6510444283485413, R2: -0.09565174579620361, MAPE: 20.019403100013733, MSE: 0.7737276554107666\n",
            "Epoch 1/20, Loss: 0.7883, RMSE: 0.8796, MAE: 0.6510, R2: -0.0957, MAPE: 20.0194, MSE: 0.7737\n"
          ]
        },
        {
          "output_type": "stream",
          "name": "stderr",
          "text": [
            "Training SAS Epoch 2/20:   0%|          | 0/1250 [00:00<?, ?it/s]<ipython-input-28-a3e772818bd3>:12: UserWarning: Using a target size (torch.Size([32, 1])) that is different to the input size (torch.Size([32, 1, 1])). This will likely lead to incorrect results due to broadcasting. Please ensure they have the same size.\n",
            "  loss = F.mse_loss(output, batch.y)\n",
            "Training SAS Epoch 2/20: 100%|██████████| 1250/1250 [00:09<00:00, 131.95it/s]\n",
            "/usr/local/lib/python3.10/dist-packages/sklearn/metrics/_regression.py:492: FutureWarning: 'squared' is deprecated in version 1.4 and will be removed in 1.6. To calculate the root mean squared error, use the function'root_mean_squared_error'.\n",
            "  warnings.warn(\n"
          ]
        },
        {
          "output_type": "stream",
          "name": "stdout",
          "text": [
            "y_true shape: (10000, 1)\n",
            "y_pred shape: (10000, 1, 1)\n",
            "Reshaped y_pred shape: (10000, 1)\n",
            "RMSE: 0.8352382779121399, MAE: 0.6489241719245911, R2: 0.01211768388748169, MAPE: 21.481509506702423, MSE: 0.6976229548454285\n",
            "Epoch 2/20, Loss: 0.7622, RMSE: 0.8352, MAE: 0.6489, R2: 0.0121, MAPE: 21.4815, MSE: 0.6976\n"
          ]
        },
        {
          "output_type": "stream",
          "name": "stderr",
          "text": [
            "Training SAS Epoch 3/20:   0%|          | 0/1250 [00:00<?, ?it/s]<ipython-input-28-a3e772818bd3>:12: UserWarning: Using a target size (torch.Size([32, 1])) that is different to the input size (torch.Size([32, 1, 1])). This will likely lead to incorrect results due to broadcasting. Please ensure they have the same size.\n",
            "  loss = F.mse_loss(output, batch.y)\n",
            "Training SAS Epoch 3/20: 100%|██████████| 1250/1250 [00:08<00:00, 142.03it/s]\n",
            "/usr/local/lib/python3.10/dist-packages/sklearn/metrics/_regression.py:492: FutureWarning: 'squared' is deprecated in version 1.4 and will be removed in 1.6. To calculate the root mean squared error, use the function'root_mean_squared_error'.\n",
            "  warnings.warn(\n"
          ]
        },
        {
          "output_type": "stream",
          "name": "stdout",
          "text": [
            "y_true shape: (10000, 1)\n",
            "y_pred shape: (10000, 1, 1)\n",
            "Reshaped y_pred shape: (10000, 1)\n",
            "RMSE: 0.8183008432388306, MAE: 0.6408436298370361, R2: 0.051777184009552, MAPE: 21.440942585468292, MSE: 0.6696162223815918\n",
            "Epoch 3/20, Loss: 0.7532, RMSE: 0.8183, MAE: 0.6408, R2: 0.0518, MAPE: 21.4409, MSE: 0.6696\n"
          ]
        },
        {
          "output_type": "stream",
          "name": "stderr",
          "text": [
            "Training SAS Epoch 4/20:   0%|          | 0/1250 [00:00<?, ?it/s]<ipython-input-28-a3e772818bd3>:12: UserWarning: Using a target size (torch.Size([32, 1])) that is different to the input size (torch.Size([32, 1, 1])). This will likely lead to incorrect results due to broadcasting. Please ensure they have the same size.\n",
            "  loss = F.mse_loss(output, batch.y)\n",
            "Training SAS Epoch 4/20: 100%|██████████| 1250/1250 [00:08<00:00, 148.45it/s]\n",
            "/usr/local/lib/python3.10/dist-packages/sklearn/metrics/_regression.py:492: FutureWarning: 'squared' is deprecated in version 1.4 and will be removed in 1.6. To calculate the root mean squared error, use the function'root_mean_squared_error'.\n",
            "  warnings.warn(\n"
          ]
        },
        {
          "output_type": "stream",
          "name": "stdout",
          "text": [
            "y_true shape: (10000, 1)\n",
            "y_pred shape: (10000, 1, 1)\n",
            "Reshaped y_pred shape: (10000, 1)\n",
            "RMSE: 0.8636699318885803, MAE: 0.6410982608795166, R2: -0.0562824010848999, MAPE: 19.816511869430542, MSE: 0.7459257245063782\n",
            "Epoch 4/20, Loss: 0.7520, RMSE: 0.8637, MAE: 0.6411, R2: -0.0563, MAPE: 19.8165, MSE: 0.7459\n"
          ]
        },
        {
          "output_type": "stream",
          "name": "stderr",
          "text": [
            "Training SAS Epoch 5/20:   0%|          | 0/1250 [00:00<?, ?it/s]<ipython-input-28-a3e772818bd3>:12: UserWarning: Using a target size (torch.Size([32, 1])) that is different to the input size (torch.Size([32, 1, 1])). This will likely lead to incorrect results due to broadcasting. Please ensure they have the same size.\n",
            "  loss = F.mse_loss(output, batch.y)\n",
            "Training SAS Epoch 5/20: 100%|██████████| 1250/1250 [00:09<00:00, 137.51it/s]\n",
            "/usr/local/lib/python3.10/dist-packages/sklearn/metrics/_regression.py:492: FutureWarning: 'squared' is deprecated in version 1.4 and will be removed in 1.6. To calculate the root mean squared error, use the function'root_mean_squared_error'.\n",
            "  warnings.warn(\n"
          ]
        },
        {
          "output_type": "stream",
          "name": "stdout",
          "text": [
            "y_true shape: (10000, 1)\n",
            "y_pred shape: (10000, 1, 1)\n",
            "Reshaped y_pred shape: (10000, 1)\n",
            "RMSE: 0.8284159898757935, MAE: 0.6900188326835632, R2: 0.02818995714187622, MAPE: 24.894580245018005, MSE: 0.6862730383872986\n",
            "Epoch 5/20, Loss: 0.7481, RMSE: 0.8284, MAE: 0.6900, R2: 0.0282, MAPE: 24.8946, MSE: 0.6863\n"
          ]
        },
        {
          "output_type": "stream",
          "name": "stderr",
          "text": [
            "Training SAS Epoch 6/20:   0%|          | 0/1250 [00:00<?, ?it/s]<ipython-input-28-a3e772818bd3>:12: UserWarning: Using a target size (torch.Size([32, 1])) that is different to the input size (torch.Size([32, 1, 1])). This will likely lead to incorrect results due to broadcasting. Please ensure they have the same size.\n",
            "  loss = F.mse_loss(output, batch.y)\n",
            "Training SAS Epoch 6/20: 100%|██████████| 1250/1250 [00:09<00:00, 135.36it/s]\n",
            "/usr/local/lib/python3.10/dist-packages/sklearn/metrics/_regression.py:492: FutureWarning: 'squared' is deprecated in version 1.4 and will be removed in 1.6. To calculate the root mean squared error, use the function'root_mean_squared_error'.\n",
            "  warnings.warn(\n"
          ]
        },
        {
          "output_type": "stream",
          "name": "stdout",
          "text": [
            "y_true shape: (10000, 1)\n",
            "y_pred shape: (10000, 1, 1)\n",
            "Reshaped y_pred shape: (10000, 1)\n",
            "RMSE: 0.8157667517662048, MAE: 0.6322977542877197, R2: 0.057640910148620605, MAPE: 20.904509723186493, MSE: 0.6654753684997559\n",
            "Epoch 6/20, Loss: 0.7457, RMSE: 0.8158, MAE: 0.6323, R2: 0.0576, MAPE: 20.9045, MSE: 0.6655\n"
          ]
        },
        {
          "output_type": "stream",
          "name": "stderr",
          "text": [
            "Training SAS Epoch 7/20:   0%|          | 0/1250 [00:00<?, ?it/s]<ipython-input-28-a3e772818bd3>:12: UserWarning: Using a target size (torch.Size([32, 1])) that is different to the input size (torch.Size([32, 1, 1])). This will likely lead to incorrect results due to broadcasting. Please ensure they have the same size.\n",
            "  loss = F.mse_loss(output, batch.y)\n",
            "Training SAS Epoch 7/20: 100%|██████████| 1250/1250 [00:09<00:00, 135.40it/s]\n",
            "/usr/local/lib/python3.10/dist-packages/sklearn/metrics/_regression.py:492: FutureWarning: 'squared' is deprecated in version 1.4 and will be removed in 1.6. To calculate the root mean squared error, use the function'root_mean_squared_error'.\n",
            "  warnings.warn(\n"
          ]
        },
        {
          "output_type": "stream",
          "name": "stdout",
          "text": [
            "y_true shape: (10000, 1)\n",
            "y_pred shape: (10000, 1, 1)\n",
            "Reshaped y_pred shape: (10000, 1)\n",
            "RMSE: 0.8328971266746521, MAE: 0.686205267906189, R2: 0.017647981643676758, MAPE: 24.454721808433533, MSE: 0.6937175989151001\n",
            "Epoch 7/20, Loss: 0.7414, RMSE: 0.8329, MAE: 0.6862, R2: 0.0176, MAPE: 24.4547, MSE: 0.6937\n"
          ]
        },
        {
          "output_type": "stream",
          "name": "stderr",
          "text": [
            "Training SAS Epoch 8/20:   0%|          | 0/1250 [00:00<?, ?it/s]<ipython-input-28-a3e772818bd3>:12: UserWarning: Using a target size (torch.Size([32, 1])) that is different to the input size (torch.Size([32, 1, 1])). This will likely lead to incorrect results due to broadcasting. Please ensure they have the same size.\n",
            "  loss = F.mse_loss(output, batch.y)\n",
            "Training SAS Epoch 8/20: 100%|██████████| 1250/1250 [00:08<00:00, 143.94it/s]\n",
            "/usr/local/lib/python3.10/dist-packages/sklearn/metrics/_regression.py:492: FutureWarning: 'squared' is deprecated in version 1.4 and will be removed in 1.6. To calculate the root mean squared error, use the function'root_mean_squared_error'.\n",
            "  warnings.warn(\n"
          ]
        },
        {
          "output_type": "stream",
          "name": "stdout",
          "text": [
            "y_true shape: (10000, 1)\n",
            "y_pred shape: (10000, 1, 1)\n",
            "Reshaped y_pred shape: (10000, 1)\n",
            "RMSE: 0.8107811808586121, MAE: 0.6341797113418579, R2: 0.06912410259246826, MAPE: 21.169213950634003, MSE: 0.657366156578064\n",
            "Epoch 8/20, Loss: 0.7422, RMSE: 0.8108, MAE: 0.6342, R2: 0.0691, MAPE: 21.1692, MSE: 0.6574\n"
          ]
        },
        {
          "output_type": "stream",
          "name": "stderr",
          "text": [
            "Training SAS Epoch 9/20:   0%|          | 0/1250 [00:00<?, ?it/s]<ipython-input-28-a3e772818bd3>:12: UserWarning: Using a target size (torch.Size([32, 1])) that is different to the input size (torch.Size([32, 1, 1])). This will likely lead to incorrect results due to broadcasting. Please ensure they have the same size.\n",
            "  loss = F.mse_loss(output, batch.y)\n",
            "Training SAS Epoch 9/20: 100%|██████████| 1250/1250 [00:05<00:00, 215.48it/s]\n",
            "/usr/local/lib/python3.10/dist-packages/sklearn/metrics/_regression.py:492: FutureWarning: 'squared' is deprecated in version 1.4 and will be removed in 1.6. To calculate the root mean squared error, use the function'root_mean_squared_error'.\n",
            "  warnings.warn(\n"
          ]
        },
        {
          "output_type": "stream",
          "name": "stdout",
          "text": [
            "y_true shape: (10000, 1)\n",
            "y_pred shape: (10000, 1, 1)\n",
            "Reshaped y_pred shape: (10000, 1)\n",
            "RMSE: 0.8379050493240356, MAE: 0.6316484212875366, R2: 0.005799412727355957, MAPE: 20.09264826774597, MSE: 0.7020848393440247\n",
            "Epoch 9/20, Loss: 0.7407, RMSE: 0.8379, MAE: 0.6316, R2: 0.0058, MAPE: 20.0926, MSE: 0.7021\n"
          ]
        },
        {
          "output_type": "stream",
          "name": "stderr",
          "text": [
            "Training SAS Epoch 10/20:   0%|          | 0/1250 [00:00<?, ?it/s]<ipython-input-28-a3e772818bd3>:12: UserWarning: Using a target size (torch.Size([32, 1])) that is different to the input size (torch.Size([32, 1, 1])). This will likely lead to incorrect results due to broadcasting. Please ensure they have the same size.\n",
            "  loss = F.mse_loss(output, batch.y)\n",
            "Training SAS Epoch 10/20: 100%|██████████| 1250/1250 [00:07<00:00, 172.63it/s]\n",
            "/usr/local/lib/python3.10/dist-packages/sklearn/metrics/_regression.py:492: FutureWarning: 'squared' is deprecated in version 1.4 and will be removed in 1.6. To calculate the root mean squared error, use the function'root_mean_squared_error'.\n",
            "  warnings.warn(\n"
          ]
        },
        {
          "output_type": "stream",
          "name": "stdout",
          "text": [
            "y_true shape: (10000, 1)\n",
            "y_pred shape: (10000, 1, 1)\n",
            "Reshaped y_pred shape: (10000, 1)\n",
            "RMSE: 0.840155839920044, MAE: 0.6364702582359314, R2: 0.0004507899284362793, MAPE: 20.365454256534576, MSE: 0.7058618664741516\n",
            "Epoch 10/20, Loss: 0.7354, RMSE: 0.8402, MAE: 0.6365, R2: 0.0005, MAPE: 20.3655, MSE: 0.7059\n"
          ]
        },
        {
          "output_type": "stream",
          "name": "stderr",
          "text": [
            "Training SAS Epoch 11/20:   0%|          | 0/1250 [00:00<?, ?it/s]<ipython-input-28-a3e772818bd3>:12: UserWarning: Using a target size (torch.Size([32, 1])) that is different to the input size (torch.Size([32, 1, 1])). This will likely lead to incorrect results due to broadcasting. Please ensure they have the same size.\n",
            "  loss = F.mse_loss(output, batch.y)\n",
            "Training SAS Epoch 11/20: 100%|██████████| 1250/1250 [00:09<00:00, 133.29it/s]\n",
            "/usr/local/lib/python3.10/dist-packages/sklearn/metrics/_regression.py:492: FutureWarning: 'squared' is deprecated in version 1.4 and will be removed in 1.6. To calculate the root mean squared error, use the function'root_mean_squared_error'.\n",
            "  warnings.warn(\n"
          ]
        },
        {
          "output_type": "stream",
          "name": "stdout",
          "text": [
            "y_true shape: (10000, 1)\n",
            "y_pred shape: (10000, 1, 1)\n",
            "Reshaped y_pred shape: (10000, 1)\n",
            "RMSE: 0.8482227325439453, MAE: 0.6308537125587463, R2: -0.018835902214050293, MAPE: 19.577880203723907, MSE: 0.7194817662239075\n",
            "Epoch 11/20, Loss: 0.7328, RMSE: 0.8482, MAE: 0.6309, R2: -0.0188, MAPE: 19.5779, MSE: 0.7195\n"
          ]
        },
        {
          "output_type": "stream",
          "name": "stderr",
          "text": [
            "Training SAS Epoch 12/20:   0%|          | 0/1250 [00:00<?, ?it/s]<ipython-input-28-a3e772818bd3>:12: UserWarning: Using a target size (torch.Size([32, 1])) that is different to the input size (torch.Size([32, 1, 1])). This will likely lead to incorrect results due to broadcasting. Please ensure they have the same size.\n",
            "  loss = F.mse_loss(output, batch.y)\n",
            "Training SAS Epoch 12/20: 100%|██████████| 1250/1250 [00:08<00:00, 145.03it/s]\n",
            "/usr/local/lib/python3.10/dist-packages/sklearn/metrics/_regression.py:492: FutureWarning: 'squared' is deprecated in version 1.4 and will be removed in 1.6. To calculate the root mean squared error, use the function'root_mean_squared_error'.\n",
            "  warnings.warn(\n"
          ]
        },
        {
          "output_type": "stream",
          "name": "stdout",
          "text": [
            "y_true shape: (10000, 1)\n",
            "y_pred shape: (10000, 1, 1)\n",
            "Reshaped y_pred shape: (10000, 1)\n",
            "RMSE: 0.834312915802002, MAE: 0.6388817429542542, R2: 0.014305353164672852, MAPE: 20.7364484667778, MSE: 0.6960780620574951\n",
            "Epoch 12/20, Loss: 0.7331, RMSE: 0.8343, MAE: 0.6389, R2: 0.0143, MAPE: 20.7364, MSE: 0.6961\n"
          ]
        },
        {
          "output_type": "stream",
          "name": "stderr",
          "text": [
            "Training SAS Epoch 13/20:   0%|          | 0/1250 [00:00<?, ?it/s]<ipython-input-28-a3e772818bd3>:12: UserWarning: Using a target size (torch.Size([32, 1])) that is different to the input size (torch.Size([32, 1, 1])). This will likely lead to incorrect results due to broadcasting. Please ensure they have the same size.\n",
            "  loss = F.mse_loss(output, batch.y)\n",
            "Training SAS Epoch 13/20: 100%|██████████| 1250/1250 [00:09<00:00, 133.42it/s]\n",
            "/usr/local/lib/python3.10/dist-packages/sklearn/metrics/_regression.py:492: FutureWarning: 'squared' is deprecated in version 1.4 and will be removed in 1.6. To calculate the root mean squared error, use the function'root_mean_squared_error'.\n",
            "  warnings.warn(\n"
          ]
        },
        {
          "output_type": "stream",
          "name": "stdout",
          "text": [
            "y_true shape: (10000, 1)\n",
            "y_pred shape: (10000, 1, 1)\n",
            "Reshaped y_pred shape: (10000, 1)\n",
            "RMSE: 0.8165068626403809, MAE: 0.6384658217430115, R2: 0.05593007802963257, MAPE: 21.31464183330536, MSE: 0.6666834950447083\n",
            "Epoch 13/20, Loss: 0.7297, RMSE: 0.8165, MAE: 0.6385, R2: 0.0559, MAPE: 21.3146, MSE: 0.6667\n"
          ]
        },
        {
          "output_type": "stream",
          "name": "stderr",
          "text": [
            "Training SAS Epoch 14/20:   0%|          | 0/1250 [00:00<?, ?it/s]<ipython-input-28-a3e772818bd3>:12: UserWarning: Using a target size (torch.Size([32, 1])) that is different to the input size (torch.Size([32, 1, 1])). This will likely lead to incorrect results due to broadcasting. Please ensure they have the same size.\n",
            "  loss = F.mse_loss(output, batch.y)\n",
            "Training SAS Epoch 14/20: 100%|██████████| 1250/1250 [00:09<00:00, 131.28it/s]\n",
            "/usr/local/lib/python3.10/dist-packages/sklearn/metrics/_regression.py:492: FutureWarning: 'squared' is deprecated in version 1.4 and will be removed in 1.6. To calculate the root mean squared error, use the function'root_mean_squared_error'.\n",
            "  warnings.warn(\n"
          ]
        },
        {
          "output_type": "stream",
          "name": "stdout",
          "text": [
            "y_true shape: (10000, 1)\n",
            "y_pred shape: (10000, 1, 1)\n",
            "Reshaped y_pred shape: (10000, 1)\n",
            "RMSE: 0.8202170729637146, MAE: 0.6247752904891968, R2: 0.04733085632324219, MAPE: 20.16509473323822, MSE: 0.6727560758590698\n",
            "Epoch 14/20, Loss: 0.7278, RMSE: 0.8202, MAE: 0.6248, R2: 0.0473, MAPE: 20.1651, MSE: 0.6728\n"
          ]
        },
        {
          "output_type": "stream",
          "name": "stderr",
          "text": [
            "Training SAS Epoch 15/20:   0%|          | 0/1250 [00:00<?, ?it/s]<ipython-input-28-a3e772818bd3>:12: UserWarning: Using a target size (torch.Size([32, 1])) that is different to the input size (torch.Size([32, 1, 1])). This will likely lead to incorrect results due to broadcasting. Please ensure they have the same size.\n",
            "  loss = F.mse_loss(output, batch.y)\n",
            "Training SAS Epoch 15/20: 100%|██████████| 1250/1250 [00:09<00:00, 131.52it/s]\n",
            "/usr/local/lib/python3.10/dist-packages/sklearn/metrics/_regression.py:492: FutureWarning: 'squared' is deprecated in version 1.4 and will be removed in 1.6. To calculate the root mean squared error, use the function'root_mean_squared_error'.\n",
            "  warnings.warn(\n"
          ]
        },
        {
          "output_type": "stream",
          "name": "stdout",
          "text": [
            "y_true shape: (10000, 1)\n",
            "y_pred shape: (10000, 1, 1)\n",
            "Reshaped y_pred shape: (10000, 1)\n",
            "RMSE: 0.8189631104469299, MAE: 0.6452876329421997, R2: 0.05024164915084839, MAPE: 21.755388379096985, MSE: 0.6707006096839905\n",
            "Epoch 15/20, Loss: 0.7173, RMSE: 0.8190, MAE: 0.6453, R2: 0.0502, MAPE: 21.7554, MSE: 0.6707\n"
          ]
        },
        {
          "output_type": "stream",
          "name": "stderr",
          "text": [
            "Training SAS Epoch 16/20:   0%|          | 0/1250 [00:00<?, ?it/s]<ipython-input-28-a3e772818bd3>:12: UserWarning: Using a target size (torch.Size([32, 1])) that is different to the input size (torch.Size([32, 1, 1])). This will likely lead to incorrect results due to broadcasting. Please ensure they have the same size.\n",
            "  loss = F.mse_loss(output, batch.y)\n",
            "Training SAS Epoch 16/20: 100%|██████████| 1250/1250 [00:09<00:00, 135.15it/s]\n",
            "/usr/local/lib/python3.10/dist-packages/sklearn/metrics/_regression.py:492: FutureWarning: 'squared' is deprecated in version 1.4 and will be removed in 1.6. To calculate the root mean squared error, use the function'root_mean_squared_error'.\n",
            "  warnings.warn(\n"
          ]
        },
        {
          "output_type": "stream",
          "name": "stdout",
          "text": [
            "y_true shape: (10000, 1)\n",
            "y_pred shape: (10000, 1, 1)\n",
            "Reshaped y_pred shape: (10000, 1)\n",
            "RMSE: 0.8206432461738586, MAE: 0.6478110551834106, R2: 0.04634064435958862, MAPE: 21.900756657123566, MSE: 0.6734553575515747\n",
            "Epoch 16/20, Loss: 0.7190, RMSE: 0.8206, MAE: 0.6478, R2: 0.0463, MAPE: 21.9008, MSE: 0.6735\n"
          ]
        },
        {
          "output_type": "stream",
          "name": "stderr",
          "text": [
            "Training SAS Epoch 17/20:   0%|          | 0/1250 [00:00<?, ?it/s]<ipython-input-28-a3e772818bd3>:12: UserWarning: Using a target size (torch.Size([32, 1])) that is different to the input size (torch.Size([32, 1, 1])). This will likely lead to incorrect results due to broadcasting. Please ensure they have the same size.\n",
            "  loss = F.mse_loss(output, batch.y)\n",
            "Training SAS Epoch 17/20: 100%|██████████| 1250/1250 [00:08<00:00, 150.67it/s]\n",
            "/usr/local/lib/python3.10/dist-packages/sklearn/metrics/_regression.py:492: FutureWarning: 'squared' is deprecated in version 1.4 and will be removed in 1.6. To calculate the root mean squared error, use the function'root_mean_squared_error'.\n",
            "  warnings.warn(\n"
          ]
        },
        {
          "output_type": "stream",
          "name": "stdout",
          "text": [
            "y_true shape: (10000, 1)\n",
            "y_pred shape: (10000, 1, 1)\n",
            "Reshaped y_pred shape: (10000, 1)\n",
            "RMSE: 0.8279236555099487, MAE: 0.66098952293396, R2: 0.02934473752975464, MAPE: 22.62808531522751, MSE: 0.6854575872421265\n",
            "Epoch 17/20, Loss: 0.7182, RMSE: 0.8279, MAE: 0.6610, R2: 0.0293, MAPE: 22.6281, MSE: 0.6855\n"
          ]
        },
        {
          "output_type": "stream",
          "name": "stderr",
          "text": [
            "Training SAS Epoch 18/20:   0%|          | 0/1250 [00:00<?, ?it/s]<ipython-input-28-a3e772818bd3>:12: UserWarning: Using a target size (torch.Size([32, 1])) that is different to the input size (torch.Size([32, 1, 1])). This will likely lead to incorrect results due to broadcasting. Please ensure they have the same size.\n",
            "  loss = F.mse_loss(output, batch.y)\n",
            "Training SAS Epoch 18/20: 100%|██████████| 1250/1250 [00:09<00:00, 136.24it/s]\n"
          ]
        },
        {
          "output_type": "stream",
          "name": "stdout",
          "text": [
            "y_true shape: (10000, 1)\n",
            "y_pred shape: (10000, 1, 1)\n",
            "Reshaped y_pred shape: (10000, 1)\n",
            "RMSE: 0.8237398862838745, MAE: 0.6488530039787292, R2: 0.03913003206253052, MAPE: 21.860788762569427, MSE: 0.6785473823547363\n",
            "Epoch 18/20, Loss: 0.7168, RMSE: 0.8237, MAE: 0.6489, R2: 0.0391, MAPE: 21.8608, MSE: 0.6785\n",
            "Early stopping triggered.\n"
          ]
        },
        {
          "output_type": "stream",
          "name": "stderr",
          "text": [
            "/usr/local/lib/python3.10/dist-packages/sklearn/metrics/_regression.py:492: FutureWarning: 'squared' is deprecated in version 1.4 and will be removed in 1.6. To calculate the root mean squared error, use the function'root_mean_squared_error'.\n",
            "  warnings.warn(\n"
          ]
        }
      ]
    },
    {
      "cell_type": "code",
      "source": [
        "# Visualization of the results\n",
        "logp_qed_metrics_df = pd.DataFrame(logp_qed_metrics_list)\n",
        "sas_metrics_df = pd.DataFrame(sas_metrics_list)\n",
        "\n",
        "plt.figure(figsize=(12, 6))\n",
        "sns.lineplot(data=logp_qed_metrics_df[['rmse', 'mae', 'r2', 'mape', 'mse']], dashes=False)\n",
        "plt.title('LogP/QED Metrics Over Epochs')\n",
        "plt.xlabel('Epochs')\n",
        "plt.ylabel('Metrics')\n",
        "plt.legend(['RMSE', 'MAE', 'R2', 'MAPE', 'MSE'])\n",
        "plt.grid()\n",
        "plt.show()\n",
        "\n",
        "plt.figure(figsize=(12, 6))\n",
        "sns.lineplot(data=sas_metrics_df[['rmse', 'mae', 'r2', 'mape', 'mse']], dashes=False)\n",
        "plt.title('SAS Metrics Over Epochs')\n",
        "plt.xlabel('Epochs')\n",
        "plt.ylabel('Metrics')\n",
        "plt.legend(['RMSE', 'MAE', 'R2', 'MAPE', 'MSE'])\n",
        "plt.grid()\n",
        "plt.show()\n"
      ],
      "metadata": {
        "colab": {
          "base_uri": "https://localhost:8080/",
          "height": 1000
        },
        "id": "5LQ6THK3niaH",
        "outputId": "43e0fb0f-fdb4-4013-9000-b56cc8dcc013"
      },
      "execution_count": 29,
      "outputs": [
        {
          "output_type": "display_data",
          "data": {
            "text/plain": [
              "<Figure size 1200x600 with 1 Axes>"
            ],
            "image/png": "[encoded data removed]"
          },
          "metadata": {}
        },
        {
          "output_type": "display_data",
          "data": {
            "text/plain": [
              "<Figure size 1200x600 with 1 Axes>"
            ],
            "image/png": "[encoded data removed]"
          },
          "metadata": {}
        }
      ]
    },
    {
      "cell_type": "code",
      "source": [
        "# Tabulating results\n",
        "logp_qed_results = pd.DataFrame({\n",
        "    'Metric': ['RMSE', 'MAE', 'R2', 'MAPE', 'MSE'],\n",
        "    'Final LogP/QED Values': [logp_qed_metrics_df['rmse'].iloc[-1],\n",
        "                               logp_qed_metrics_df['mae'].iloc[-1],\n",
        "                               logp_qed_metrics_df['r2'].iloc[-1],\n",
        "                               logp_qed_metrics_df['mape'].iloc[-1],\n",
        "                               logp_qed_metrics_df['mse'].iloc[-1]]\n",
        "})\n",
        "\n",
        "sas_results = pd.DataFrame({\n",
        "    'Metric': ['RMSE', 'MAE', 'R2', 'MAPE', 'MSE'],\n",
        "    'Final SAS Values': [sas_metrics_df['rmse'].iloc[-1],\n",
        "                         sas_metrics_df['mae'].iloc[-1],\n",
        "                         sas_metrics_df['r2'].iloc[-1],\n",
        "                         sas_metrics_df['mape'].iloc[-1],\n",
        "                         sas_metrics_df['mse'].iloc[-1]]\n",
        "})\n",
        "\n",
        "print(\"LogP/QED Results:\")\n",
        "print(logp_qed_results)\n",
        "\n",
        "print(\"\\nSAS Results:\")\n",
        "print(sas_results)"
      ],
      "metadata": {
        "colab": {
          "base_uri": "https://localhost:8080/"
        },
        "id": "EW7PQmKWo2I3",
        "outputId": "27ea1aa6-11e9-450c-bee0-19859bdfb20e"
      },
      "execution_count": 30,
      "outputs": [
        {
          "output_type": "stream",
          "name": "stdout",
          "text": [
            "LogP/QED Results:\n",
            "  Metric  Final LogP/QED Values\n",
            "0   RMSE               0.762147\n",
            "1    MAE               0.605488\n",
            "2     R2               0.021248\n",
            "3   MAPE             110.695839\n",
            "4    MSE               0.968647\n",
            "\n",
            "SAS Results:\n",
            "  Metric  Final SAS Values\n",
            "0   RMSE          0.823740\n",
            "1    MAE          0.648853\n",
            "2     R2          0.039130\n",
            "3   MAPE         21.860789\n",
            "4    MSE          0.678547\n"
          ]
        }
      ]
    },
    {
      "cell_type": "code",
      "source": [],
      "metadata": {
        "id": "zD2uaW6do4-W"
      },
      "execution_count": null,
      "outputs": []
    }
  ]
}